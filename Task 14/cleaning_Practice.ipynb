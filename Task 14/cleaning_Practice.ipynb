{
 "cells": [
  {
   "cell_type": "code",
   "id": "e5593514",
   "metadata": {
    "ExecuteTime": {
     "end_time": "2025-05-09T19:22:10.055494Z",
     "start_time": "2025-05-09T19:22:09.499091Z"
    }
   },
   "source": [
    "#Run this cell (Do not make any changes)\n",
    "import pandas as pd\n",
    "df_users = pd.DataFrame({\n",
    "    \"user_id\": [234, 235, 236, 237, 237, 238, 239, 240, 241, 242, 242],\n",
    "    \"Name\": [\"Tom\", \"Alex--\", \"..Thomas\", \"John\", \"John\", \"Paul/\", \"Emma9\", \"Joy\", \"Samantha_\", \"Emily\", \"Emily\"],\n",
    "    \"Last_name\": [\"Smith\", \"johnson\", \"brown\", \"Davis\", \"Davis\", \"None\", \"wilson\", \"Thompson\", \"Lee\", \"Johnson\", \"Johnson\"],\n",
    "    \"age\": [23, 32, 45, 22, 22, 50, 34, 47, 28, 19, 19],\n",
    "    \"Phone\": [\"555/123/4567\", \"333-234-5678\", \"444_456_7890\", \"111-222-3333\", \"111-222-3333\", None, \"333/987/4567\", \"222/345_987\", \"(777) 987-6543\", \"777-888-9999\", \"777-888-9999\"],\n",
    "    \"Email\": [\"smith@email.com\", \"johnson@hotmail.com\", \"brown@email.com\", \"davis@mail.com\", \"davis@mail.com\", \"John@gmail.com\", \"wilson@mail.com\", \"thompson@email.com\", \"lee@email.com\", \"emily@hotmail.com\", \"emily@hotmail.com\"],\n",
    "    \"Not_Useful_column\": [None, None, None, None, None, None, None, None, None, None, None]\n",
    "})\n",
    "\n",
    "print(df_users)"
   ],
   "outputs": [
    {
     "name": "stdout",
     "output_type": "stream",
     "text": [
      "    user_id       Name Last_name  age           Phone                Email  \\\n",
      "0       234        Tom     Smith   23    555/123/4567      smith@email.com   \n",
      "1       235     Alex--   johnson   32    333-234-5678  johnson@hotmail.com   \n",
      "2       236   ..Thomas     brown   45    444_456_7890      brown@email.com   \n",
      "3       237       John     Davis   22    111-222-3333       davis@mail.com   \n",
      "4       237       John     Davis   22    111-222-3333       davis@mail.com   \n",
      "5       238      Paul/      None   50            None       John@gmail.com   \n",
      "6       239      Emma9    wilson   34    333/987/4567      wilson@mail.com   \n",
      "7       240        Joy  Thompson   47     222/345_987   thompson@email.com   \n",
      "8       241  Samantha_       Lee   28  (777) 987-6543        lee@email.com   \n",
      "9       242      Emily   Johnson   19    777-888-9999    emily@hotmail.com   \n",
      "10      242      Emily   Johnson   19    777-888-9999    emily@hotmail.com   \n",
      "\n",
      "   Not_Useful_column  \n",
      "0               None  \n",
      "1               None  \n",
      "2               None  \n",
      "3               None  \n",
      "4               None  \n",
      "5               None  \n",
      "6               None  \n",
      "7               None  \n",
      "8               None  \n",
      "9               None  \n",
      "10              None  \n"
     ]
    }
   ],
   "execution_count": 2
  },
  {
   "cell_type": "code",
   "id": "dc2a2d71",
   "metadata": {
    "ExecuteTime": {
     "end_time": "2025-05-09T19:22:13.282938Z",
     "start_time": "2025-05-09T19:22:13.276488Z"
    }
   },
   "source": [
    "#Delete duplicated rows\n",
    "df_users = df_users.drop_duplicates()"
   ],
   "outputs": [],
   "execution_count": 3
  },
  {
   "cell_type": "code",
   "id": "70afc7c7",
   "metadata": {
    "ExecuteTime": {
     "end_time": "2025-05-09T19:22:24.144623Z",
     "start_time": "2025-05-09T19:22:24.138187Z"
    }
   },
   "source": [
    "#Delete unnecessary columns\n",
    "df_users = df_users.drop(columns=['Not_Useful_column'])"
   ],
   "outputs": [],
   "execution_count": 4
  },
  {
   "cell_type": "code",
   "id": "828de2d4",
   "metadata": {
    "ExecuteTime": {
     "end_time": "2025-05-09T19:22:36.334550Z",
     "start_time": "2025-05-09T19:22:36.325170Z"
    }
   },
   "source": [
    "#Correct syntax errors in columns\n",
    "df_users['Name'] = df_users['Name'].str.replace(r'[^a-zA-Z]', '', regex=True)\n",
    "df_users['Last_name'] = df_users['Last_name'].str.capitalize()\n",
    "df_users['Phone'] = df_users['Phone'].str.replace(r'[^0-9]', '', regex=True)"
   ],
   "outputs": [],
   "execution_count": 6
  },
  {
   "cell_type": "code",
   "id": "aa944dce",
   "metadata": {
    "ExecuteTime": {
     "end_time": "2025-05-09T19:23:12.391216Z",
     "start_time": "2025-05-09T19:23:12.384215Z"
    }
   },
   "source": [
    "#Set a unique pattern for a column\n",
    "df_users['Phone'] = df_users['Phone'].str[:3] + '-' + df_users['Phone'].str[3:6] + '-' + df_users['Phone'].str[6:]"
   ],
   "outputs": [],
   "execution_count": 7
  },
  {
   "cell_type": "code",
   "id": "4ddbaf50",
   "metadata": {
    "ExecuteTime": {
     "end_time": "2025-05-09T19:23:38.467108Z",
     "start_time": "2025-05-09T19:23:38.462724Z"
    }
   },
   "source": [
    "#Delete rows with None values\n",
    "df_users = df_users.dropna()"
   ],
   "outputs": [],
   "execution_count": 9
  },
  {
   "cell_type": "code",
   "execution_count": null,
   "id": "3b7f388d",
   "metadata": {},
   "outputs": [],
   "source": [
    "#Conclusion\n",
    "#Data cleaning is a very important step before starting to work with a dataset in data science or machine learning,\n",
    "#it ensures that the data has no syntax errors, None or NaN values, duplicated rows, unnecessary columns, and many more things.\n",
    "#A dataset can be clean in many ways not just the ones seen in this article"
   ]
  }
 ],
 "metadata": {
  "kernelspec": {
   "display_name": "Python 3 (ipykernel)",
   "language": "python",
   "name": "python3"
  },
  "language_info": {
   "codemirror_mode": {
    "name": "ipython",
    "version": 3
   },
   "file_extension": ".py",
   "mimetype": "text/x-python",
   "name": "python",
   "nbconvert_exporter": "python",
   "pygments_lexer": "ipython3",
   "version": "3.9.13"
  }
 },
 "nbformat": 4,
 "nbformat_minor": 5
}

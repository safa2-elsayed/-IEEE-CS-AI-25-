{
 "cells": [
  {
   "cell_type": "markdown",
   "id": "3f67abf2",
   "metadata": {
    "papermill": {
     "duration": 0.011357,
     "end_time": "2024-05-12T11:47:52.592385",
     "exception": false,
     "start_time": "2024-05-12T11:47:52.581028",
     "status": "completed"
    },
    "tags": []
   },
   "source": [
    "# 1. Importing Libraries"
   ]
  },
  {
   "cell_type": "code",
   "id": "a40aa72a",
   "metadata": {
    "execution": {
     "iopub.execute_input": "2024-05-12T11:47:52.618905Z",
     "iopub.status.busy": "2024-05-12T11:47:52.618172Z",
     "iopub.status.idle": "2024-05-12T11:47:55.151354Z",
     "shell.execute_reply": "2024-05-12T11:47:55.149805Z"
    },
    "papermill": {
     "duration": 2.550327,
     "end_time": "2024-05-12T11:47:55.154315",
     "exception": false,
     "start_time": "2024-05-12T11:47:52.603988",
     "status": "completed"
    },
    "tags": [],
    "ExecuteTime": {
     "end_time": "2025-07-19T03:32:25.979445Z",
     "start_time": "2025-07-19T03:32:25.154081Z"
    }
   },
   "source": [
    "import pandas as pd\n",
    "import numpy as np"
   ],
   "outputs": [],
   "execution_count": 1
  },
  {
   "cell_type": "markdown",
   "id": "c9e27157",
   "metadata": {
    "papermill": {
     "duration": 0.010236,
     "end_time": "2024-05-12T11:47:55.175637",
     "exception": false,
     "start_time": "2024-05-12T11:47:55.165401",
     "status": "completed"
    },
    "tags": []
   },
   "source": [
    "# 2. Data Loading"
   ]
  },
  {
   "cell_type": "code",
   "id": "c481b89b",
   "metadata": {
    "execution": {
     "iopub.execute_input": "2024-05-12T11:47:55.198292Z",
     "iopub.status.busy": "2024-05-12T11:47:55.197778Z",
     "iopub.status.idle": "2024-05-12T11:47:55.293095Z",
     "shell.execute_reply": "2024-05-12T11:47:55.291847Z"
    },
    "papermill": {
     "duration": 0.109876,
     "end_time": "2024-05-12T11:47:55.295818",
     "exception": false,
     "start_time": "2024-05-12T11:47:55.185942",
     "status": "completed"
    },
    "tags": [],
    "ExecuteTime": {
     "end_time": "2025-07-19T03:33:49.207774Z",
     "start_time": "2025-07-19T03:33:49.148203Z"
    }
   },
   "source": [
    "netflix= pd.read_csv('netflix1.csv')\n",
    "netflix"
   ],
   "outputs": [
    {
     "data": {
      "text/plain": [
       "     show_id     type                             title         director  \\\n",
       "0         s1    Movie              Dick Johnson Is Dead  Kirsten Johnson   \n",
       "1         s3  TV Show                         Ganglands  Julien Leclercq   \n",
       "2         s6  TV Show                     Midnight Mass    Mike Flanagan   \n",
       "3        s14    Movie  Confessions of an Invisible Girl    Bruno Garotti   \n",
       "4         s8    Movie                           Sankofa     Haile Gerima   \n",
       "...      ...      ...                               ...              ...   \n",
       "8785   s8797  TV Show                        Yunus Emre        Not Given   \n",
       "8786   s8798  TV Show                         Zak Storm        Not Given   \n",
       "8787   s8801  TV Show                Zindagi Gulzar Hai        Not Given   \n",
       "8788   s8784  TV Show                              Yoko        Not Given   \n",
       "8789   s8786  TV Show                               YOM        Not Given   \n",
       "\n",
       "            country  date_added  release_year rating   duration  \\\n",
       "0     United States   9/25/2021          2020  PG-13     90 min   \n",
       "1            France   9/24/2021          2021  TV-MA   1 Season   \n",
       "2     United States   9/24/2021          2021  TV-MA   1 Season   \n",
       "3            Brazil   9/22/2021          2021  TV-PG     91 min   \n",
       "4     United States   9/24/2021          1993  TV-MA    125 min   \n",
       "...             ...         ...           ...    ...        ...   \n",
       "8785         Turkey   1/17/2017          2016  TV-PG  2 Seasons   \n",
       "8786  United States   9/13/2018          2016  TV-Y7  3 Seasons   \n",
       "8787       Pakistan  12/15/2016          2012  TV-PG   1 Season   \n",
       "8788       Pakistan   6/23/2018          2016   TV-Y   1 Season   \n",
       "8789       Pakistan    6/7/2018          2016  TV-Y7   1 Season   \n",
       "\n",
       "                                              listed_in  \n",
       "0                                         Documentaries  \n",
       "1     Crime TV Shows, International TV Shows, TV Act...  \n",
       "2                    TV Dramas, TV Horror, TV Mysteries  \n",
       "3                    Children & Family Movies, Comedies  \n",
       "4      Dramas, Independent Movies, International Movies  \n",
       "...                                                 ...  \n",
       "8785                  International TV Shows, TV Dramas  \n",
       "8786                                           Kids' TV  \n",
       "8787  International TV Shows, Romantic TV Shows, TV ...  \n",
       "8788                                           Kids' TV  \n",
       "8789                                           Kids' TV  \n",
       "\n",
       "[8790 rows x 10 columns]"
      ],
      "text/html": [
       "<div>\n",
       "<style scoped>\n",
       "    .dataframe tbody tr th:only-of-type {\n",
       "        vertical-align: middle;\n",
       "    }\n",
       "\n",
       "    .dataframe tbody tr th {\n",
       "        vertical-align: top;\n",
       "    }\n",
       "\n",
       "    .dataframe thead th {\n",
       "        text-align: right;\n",
       "    }\n",
       "</style>\n",
       "<table border=\"1\" class=\"dataframe\">\n",
       "  <thead>\n",
       "    <tr style=\"text-align: right;\">\n",
       "      <th></th>\n",
       "      <th>show_id</th>\n",
       "      <th>type</th>\n",
       "      <th>title</th>\n",
       "      <th>director</th>\n",
       "      <th>country</th>\n",
       "      <th>date_added</th>\n",
       "      <th>release_year</th>\n",
       "      <th>rating</th>\n",
       "      <th>duration</th>\n",
       "      <th>listed_in</th>\n",
       "    </tr>\n",
       "  </thead>\n",
       "  <tbody>\n",
       "    <tr>\n",
       "      <th>0</th>\n",
       "      <td>s1</td>\n",
       "      <td>Movie</td>\n",
       "      <td>Dick Johnson Is Dead</td>\n",
       "      <td>Kirsten Johnson</td>\n",
       "      <td>United States</td>\n",
       "      <td>9/25/2021</td>\n",
       "      <td>2020</td>\n",
       "      <td>PG-13</td>\n",
       "      <td>90 min</td>\n",
       "      <td>Documentaries</td>\n",
       "    </tr>\n",
       "    <tr>\n",
       "      <th>1</th>\n",
       "      <td>s3</td>\n",
       "      <td>TV Show</td>\n",
       "      <td>Ganglands</td>\n",
       "      <td>Julien Leclercq</td>\n",
       "      <td>France</td>\n",
       "      <td>9/24/2021</td>\n",
       "      <td>2021</td>\n",
       "      <td>TV-MA</td>\n",
       "      <td>1 Season</td>\n",
       "      <td>Crime TV Shows, International TV Shows, TV Act...</td>\n",
       "    </tr>\n",
       "    <tr>\n",
       "      <th>2</th>\n",
       "      <td>s6</td>\n",
       "      <td>TV Show</td>\n",
       "      <td>Midnight Mass</td>\n",
       "      <td>Mike Flanagan</td>\n",
       "      <td>United States</td>\n",
       "      <td>9/24/2021</td>\n",
       "      <td>2021</td>\n",
       "      <td>TV-MA</td>\n",
       "      <td>1 Season</td>\n",
       "      <td>TV Dramas, TV Horror, TV Mysteries</td>\n",
       "    </tr>\n",
       "    <tr>\n",
       "      <th>3</th>\n",
       "      <td>s14</td>\n",
       "      <td>Movie</td>\n",
       "      <td>Confessions of an Invisible Girl</td>\n",
       "      <td>Bruno Garotti</td>\n",
       "      <td>Brazil</td>\n",
       "      <td>9/22/2021</td>\n",
       "      <td>2021</td>\n",
       "      <td>TV-PG</td>\n",
       "      <td>91 min</td>\n",
       "      <td>Children &amp; Family Movies, Comedies</td>\n",
       "    </tr>\n",
       "    <tr>\n",
       "      <th>4</th>\n",
       "      <td>s8</td>\n",
       "      <td>Movie</td>\n",
       "      <td>Sankofa</td>\n",
       "      <td>Haile Gerima</td>\n",
       "      <td>United States</td>\n",
       "      <td>9/24/2021</td>\n",
       "      <td>1993</td>\n",
       "      <td>TV-MA</td>\n",
       "      <td>125 min</td>\n",
       "      <td>Dramas, Independent Movies, International Movies</td>\n",
       "    </tr>\n",
       "    <tr>\n",
       "      <th>...</th>\n",
       "      <td>...</td>\n",
       "      <td>...</td>\n",
       "      <td>...</td>\n",
       "      <td>...</td>\n",
       "      <td>...</td>\n",
       "      <td>...</td>\n",
       "      <td>...</td>\n",
       "      <td>...</td>\n",
       "      <td>...</td>\n",
       "      <td>...</td>\n",
       "    </tr>\n",
       "    <tr>\n",
       "      <th>8785</th>\n",
       "      <td>s8797</td>\n",
       "      <td>TV Show</td>\n",
       "      <td>Yunus Emre</td>\n",
       "      <td>Not Given</td>\n",
       "      <td>Turkey</td>\n",
       "      <td>1/17/2017</td>\n",
       "      <td>2016</td>\n",
       "      <td>TV-PG</td>\n",
       "      <td>2 Seasons</td>\n",
       "      <td>International TV Shows, TV Dramas</td>\n",
       "    </tr>\n",
       "    <tr>\n",
       "      <th>8786</th>\n",
       "      <td>s8798</td>\n",
       "      <td>TV Show</td>\n",
       "      <td>Zak Storm</td>\n",
       "      <td>Not Given</td>\n",
       "      <td>United States</td>\n",
       "      <td>9/13/2018</td>\n",
       "      <td>2016</td>\n",
       "      <td>TV-Y7</td>\n",
       "      <td>3 Seasons</td>\n",
       "      <td>Kids' TV</td>\n",
       "    </tr>\n",
       "    <tr>\n",
       "      <th>8787</th>\n",
       "      <td>s8801</td>\n",
       "      <td>TV Show</td>\n",
       "      <td>Zindagi Gulzar Hai</td>\n",
       "      <td>Not Given</td>\n",
       "      <td>Pakistan</td>\n",
       "      <td>12/15/2016</td>\n",
       "      <td>2012</td>\n",
       "      <td>TV-PG</td>\n",
       "      <td>1 Season</td>\n",
       "      <td>International TV Shows, Romantic TV Shows, TV ...</td>\n",
       "    </tr>\n",
       "    <tr>\n",
       "      <th>8788</th>\n",
       "      <td>s8784</td>\n",
       "      <td>TV Show</td>\n",
       "      <td>Yoko</td>\n",
       "      <td>Not Given</td>\n",
       "      <td>Pakistan</td>\n",
       "      <td>6/23/2018</td>\n",
       "      <td>2016</td>\n",
       "      <td>TV-Y</td>\n",
       "      <td>1 Season</td>\n",
       "      <td>Kids' TV</td>\n",
       "    </tr>\n",
       "    <tr>\n",
       "      <th>8789</th>\n",
       "      <td>s8786</td>\n",
       "      <td>TV Show</td>\n",
       "      <td>YOM</td>\n",
       "      <td>Not Given</td>\n",
       "      <td>Pakistan</td>\n",
       "      <td>6/7/2018</td>\n",
       "      <td>2016</td>\n",
       "      <td>TV-Y7</td>\n",
       "      <td>1 Season</td>\n",
       "      <td>Kids' TV</td>\n",
       "    </tr>\n",
       "  </tbody>\n",
       "</table>\n",
       "<p>8790 rows × 10 columns</p>\n",
       "</div>"
      ]
     },
     "execution_count": 3,
     "metadata": {},
     "output_type": "execute_result"
    }
   ],
   "execution_count": 3
  },
  {
   "cell_type": "markdown",
   "id": "033d9528",
   "metadata": {
    "papermill": {
     "duration": 0.011027,
     "end_time": "2024-05-12T11:47:55.317802",
     "exception": false,
     "start_time": "2024-05-12T11:47:55.306775",
     "status": "completed"
    },
    "tags": []
   },
   "source": [
    "# 3. Exploring Data"
   ]
  },
  {
   "cell_type": "code",
   "id": "a50808a2",
   "metadata": {
    "execution": {
     "iopub.execute_input": "2024-05-12T11:47:55.342183Z",
     "iopub.status.busy": "2024-05-12T11:47:55.341749Z",
     "iopub.status.idle": "2024-05-12T11:47:55.349805Z",
     "shell.execute_reply": "2024-05-12T11:47:55.348508Z"
    },
    "papermill": {
     "duration": 0.02367,
     "end_time": "2024-05-12T11:47:55.352369",
     "exception": false,
     "start_time": "2024-05-12T11:47:55.328699",
     "status": "completed"
    },
    "tags": [],
    "ExecuteTime": {
     "end_time": "2025-07-19T03:34:25.710597Z",
     "start_time": "2025-07-19T03:34:25.662044Z"
    }
   },
   "source": "netflix.info()",
   "outputs": [
    {
     "name": "stdout",
     "output_type": "stream",
     "text": [
      "<class 'pandas.core.frame.DataFrame'>\n",
      "RangeIndex: 8790 entries, 0 to 8789\n",
      "Data columns (total 10 columns):\n",
      " #   Column        Non-Null Count  Dtype \n",
      "---  ------        --------------  ----- \n",
      " 0   show_id       8790 non-null   object\n",
      " 1   type          8790 non-null   object\n",
      " 2   title         8790 non-null   object\n",
      " 3   director      8790 non-null   object\n",
      " 4   country       8790 non-null   object\n",
      " 5   date_added    8790 non-null   object\n",
      " 6   release_year  8790 non-null   int64 \n",
      " 7   rating        8790 non-null   object\n",
      " 8   duration      8790 non-null   object\n",
      " 9   listed_in     8790 non-null   object\n",
      "dtypes: int64(1), object(9)\n",
      "memory usage: 686.8+ KB\n"
     ]
    }
   ],
   "execution_count": 4
  },
  {
   "cell_type": "code",
   "id": "910a4e60",
   "metadata": {
    "execution": {
     "iopub.execute_input": "2024-05-12T11:47:55.379073Z",
     "iopub.status.busy": "2024-05-12T11:47:55.378335Z",
     "iopub.status.idle": "2024-05-12T11:47:55.399351Z",
     "shell.execute_reply": "2024-05-12T11:47:55.398072Z"
    },
    "papermill": {
     "duration": 0.038174,
     "end_time": "2024-05-12T11:47:55.402115",
     "exception": false,
     "start_time": "2024-05-12T11:47:55.363941",
     "status": "completed"
    },
    "tags": [],
    "ExecuteTime": {
     "end_time": "2025-07-19T03:34:38.041923Z",
     "start_time": "2025-07-19T03:34:38.024659Z"
    }
   },
   "source": "netflix.head()",
   "outputs": [
    {
     "data": {
      "text/plain": [
       "  show_id     type                             title         director  \\\n",
       "0      s1    Movie              Dick Johnson Is Dead  Kirsten Johnson   \n",
       "1      s3  TV Show                         Ganglands  Julien Leclercq   \n",
       "2      s6  TV Show                     Midnight Mass    Mike Flanagan   \n",
       "3     s14    Movie  Confessions of an Invisible Girl    Bruno Garotti   \n",
       "4      s8    Movie                           Sankofa     Haile Gerima   \n",
       "\n",
       "         country date_added  release_year rating  duration  \\\n",
       "0  United States  9/25/2021          2020  PG-13    90 min   \n",
       "1         France  9/24/2021          2021  TV-MA  1 Season   \n",
       "2  United States  9/24/2021          2021  TV-MA  1 Season   \n",
       "3         Brazil  9/22/2021          2021  TV-PG    91 min   \n",
       "4  United States  9/24/2021          1993  TV-MA   125 min   \n",
       "\n",
       "                                           listed_in  \n",
       "0                                      Documentaries  \n",
       "1  Crime TV Shows, International TV Shows, TV Act...  \n",
       "2                 TV Dramas, TV Horror, TV Mysteries  \n",
       "3                 Children & Family Movies, Comedies  \n",
       "4   Dramas, Independent Movies, International Movies  "
      ],
      "text/html": [
       "<div>\n",
       "<style scoped>\n",
       "    .dataframe tbody tr th:only-of-type {\n",
       "        vertical-align: middle;\n",
       "    }\n",
       "\n",
       "    .dataframe tbody tr th {\n",
       "        vertical-align: top;\n",
       "    }\n",
       "\n",
       "    .dataframe thead th {\n",
       "        text-align: right;\n",
       "    }\n",
       "</style>\n",
       "<table border=\"1\" class=\"dataframe\">\n",
       "  <thead>\n",
       "    <tr style=\"text-align: right;\">\n",
       "      <th></th>\n",
       "      <th>show_id</th>\n",
       "      <th>type</th>\n",
       "      <th>title</th>\n",
       "      <th>director</th>\n",
       "      <th>country</th>\n",
       "      <th>date_added</th>\n",
       "      <th>release_year</th>\n",
       "      <th>rating</th>\n",
       "      <th>duration</th>\n",
       "      <th>listed_in</th>\n",
       "    </tr>\n",
       "  </thead>\n",
       "  <tbody>\n",
       "    <tr>\n",
       "      <th>0</th>\n",
       "      <td>s1</td>\n",
       "      <td>Movie</td>\n",
       "      <td>Dick Johnson Is Dead</td>\n",
       "      <td>Kirsten Johnson</td>\n",
       "      <td>United States</td>\n",
       "      <td>9/25/2021</td>\n",
       "      <td>2020</td>\n",
       "      <td>PG-13</td>\n",
       "      <td>90 min</td>\n",
       "      <td>Documentaries</td>\n",
       "    </tr>\n",
       "    <tr>\n",
       "      <th>1</th>\n",
       "      <td>s3</td>\n",
       "      <td>TV Show</td>\n",
       "      <td>Ganglands</td>\n",
       "      <td>Julien Leclercq</td>\n",
       "      <td>France</td>\n",
       "      <td>9/24/2021</td>\n",
       "      <td>2021</td>\n",
       "      <td>TV-MA</td>\n",
       "      <td>1 Season</td>\n",
       "      <td>Crime TV Shows, International TV Shows, TV Act...</td>\n",
       "    </tr>\n",
       "    <tr>\n",
       "      <th>2</th>\n",
       "      <td>s6</td>\n",
       "      <td>TV Show</td>\n",
       "      <td>Midnight Mass</td>\n",
       "      <td>Mike Flanagan</td>\n",
       "      <td>United States</td>\n",
       "      <td>9/24/2021</td>\n",
       "      <td>2021</td>\n",
       "      <td>TV-MA</td>\n",
       "      <td>1 Season</td>\n",
       "      <td>TV Dramas, TV Horror, TV Mysteries</td>\n",
       "    </tr>\n",
       "    <tr>\n",
       "      <th>3</th>\n",
       "      <td>s14</td>\n",
       "      <td>Movie</td>\n",
       "      <td>Confessions of an Invisible Girl</td>\n",
       "      <td>Bruno Garotti</td>\n",
       "      <td>Brazil</td>\n",
       "      <td>9/22/2021</td>\n",
       "      <td>2021</td>\n",
       "      <td>TV-PG</td>\n",
       "      <td>91 min</td>\n",
       "      <td>Children &amp; Family Movies, Comedies</td>\n",
       "    </tr>\n",
       "    <tr>\n",
       "      <th>4</th>\n",
       "      <td>s8</td>\n",
       "      <td>Movie</td>\n",
       "      <td>Sankofa</td>\n",
       "      <td>Haile Gerima</td>\n",
       "      <td>United States</td>\n",
       "      <td>9/24/2021</td>\n",
       "      <td>1993</td>\n",
       "      <td>TV-MA</td>\n",
       "      <td>125 min</td>\n",
       "      <td>Dramas, Independent Movies, International Movies</td>\n",
       "    </tr>\n",
       "  </tbody>\n",
       "</table>\n",
       "</div>"
      ]
     },
     "execution_count": 5,
     "metadata": {},
     "output_type": "execute_result"
    }
   ],
   "execution_count": 5
  },
  {
   "cell_type": "code",
   "id": "2a254fcd",
   "metadata": {
    "execution": {
     "iopub.execute_input": "2024-05-12T11:47:55.427195Z",
     "iopub.status.busy": "2024-05-12T11:47:55.426771Z",
     "iopub.status.idle": "2024-05-12T11:47:55.445377Z",
     "shell.execute_reply": "2024-05-12T11:47:55.444447Z"
    },
    "papermill": {
     "duration": 0.034395,
     "end_time": "2024-05-12T11:47:55.448001",
     "exception": false,
     "start_time": "2024-05-12T11:47:55.413606",
     "status": "completed"
    },
    "tags": [],
    "ExecuteTime": {
     "end_time": "2025-07-19T03:34:40.716317Z",
     "start_time": "2025-07-19T03:34:40.698501Z"
    }
   },
   "source": "netflix.describe()",
   "outputs": [
    {
     "data": {
      "text/plain": [
       "       release_year\n",
       "count   8790.000000\n",
       "mean    2014.183163\n",
       "std        8.825466\n",
       "min     1925.000000\n",
       "25%     2013.000000\n",
       "50%     2017.000000\n",
       "75%     2019.000000\n",
       "max     2021.000000"
      ],
      "text/html": [
       "<div>\n",
       "<style scoped>\n",
       "    .dataframe tbody tr th:only-of-type {\n",
       "        vertical-align: middle;\n",
       "    }\n",
       "\n",
       "    .dataframe tbody tr th {\n",
       "        vertical-align: top;\n",
       "    }\n",
       "\n",
       "    .dataframe thead th {\n",
       "        text-align: right;\n",
       "    }\n",
       "</style>\n",
       "<table border=\"1\" class=\"dataframe\">\n",
       "  <thead>\n",
       "    <tr style=\"text-align: right;\">\n",
       "      <th></th>\n",
       "      <th>release_year</th>\n",
       "    </tr>\n",
       "  </thead>\n",
       "  <tbody>\n",
       "    <tr>\n",
       "      <th>count</th>\n",
       "      <td>8790.000000</td>\n",
       "    </tr>\n",
       "    <tr>\n",
       "      <th>mean</th>\n",
       "      <td>2014.183163</td>\n",
       "    </tr>\n",
       "    <tr>\n",
       "      <th>std</th>\n",
       "      <td>8.825466</td>\n",
       "    </tr>\n",
       "    <tr>\n",
       "      <th>min</th>\n",
       "      <td>1925.000000</td>\n",
       "    </tr>\n",
       "    <tr>\n",
       "      <th>25%</th>\n",
       "      <td>2013.000000</td>\n",
       "    </tr>\n",
       "    <tr>\n",
       "      <th>50%</th>\n",
       "      <td>2017.000000</td>\n",
       "    </tr>\n",
       "    <tr>\n",
       "      <th>75%</th>\n",
       "      <td>2019.000000</td>\n",
       "    </tr>\n",
       "    <tr>\n",
       "      <th>max</th>\n",
       "      <td>2021.000000</td>\n",
       "    </tr>\n",
       "  </tbody>\n",
       "</table>\n",
       "</div>"
      ]
     },
     "execution_count": 6,
     "metadata": {},
     "output_type": "execute_result"
    }
   ],
   "execution_count": 6
  },
  {
   "cell_type": "code",
   "id": "ad63fcc0",
   "metadata": {
    "execution": {
     "iopub.execute_input": "2024-05-12T11:47:55.473503Z",
     "iopub.status.busy": "2024-05-12T11:47:55.472931Z",
     "iopub.status.idle": "2024-05-12T11:47:55.506800Z",
     "shell.execute_reply": "2024-05-12T11:47:55.505103Z"
    },
    "papermill": {
     "duration": 0.049665,
     "end_time": "2024-05-12T11:47:55.509529",
     "exception": false,
     "start_time": "2024-05-12T11:47:55.459864",
     "status": "completed"
    },
    "tags": [],
    "ExecuteTime": {
     "end_time": "2025-07-19T03:34:49.184299Z",
     "start_time": "2025-07-19T03:34:49.170038Z"
    }
   },
   "source": "netflix.isnull().sum()",
   "outputs": [
    {
     "data": {
      "text/plain": [
       "show_id         0\n",
       "type            0\n",
       "title           0\n",
       "director        0\n",
       "country         0\n",
       "date_added      0\n",
       "release_year    0\n",
       "rating          0\n",
       "duration        0\n",
       "listed_in       0\n",
       "dtype: int64"
      ]
     },
     "execution_count": 7,
     "metadata": {},
     "output_type": "execute_result"
    }
   ],
   "execution_count": 7
  },
  {
   "cell_type": "code",
   "id": "76a32c15",
   "metadata": {
    "execution": {
     "iopub.execute_input": "2024-05-12T11:47:55.535042Z",
     "iopub.status.busy": "2024-05-12T11:47:55.534586Z",
     "iopub.status.idle": "2024-05-12T11:47:55.554982Z",
     "shell.execute_reply": "2024-05-12T11:47:55.553435Z"
    },
    "papermill": {
     "duration": 0.036595,
     "end_time": "2024-05-12T11:47:55.557860",
     "exception": false,
     "start_time": "2024-05-12T11:47:55.521265",
     "status": "completed"
    },
    "tags": [],
    "ExecuteTime": {
     "end_time": "2025-07-19T03:35:17.339181Z",
     "start_time": "2025-07-19T03:35:17.329182Z"
    }
   },
   "source": "netflix.dtypes",
   "outputs": [
    {
     "data": {
      "text/plain": [
       "show_id         object\n",
       "type            object\n",
       "title           object\n",
       "director        object\n",
       "country         object\n",
       "date_added      object\n",
       "release_year     int64\n",
       "rating          object\n",
       "duration        object\n",
       "listed_in       object\n",
       "dtype: object"
      ]
     },
     "execution_count": 8,
     "metadata": {},
     "output_type": "execute_result"
    }
   ],
   "execution_count": 8
  },
  {
   "cell_type": "code",
   "id": "4ec37130",
   "metadata": {
    "execution": {
     "iopub.execute_input": "2024-05-12T11:47:55.584890Z",
     "iopub.status.busy": "2024-05-12T11:47:55.584458Z",
     "iopub.status.idle": "2024-05-12T11:47:55.591771Z",
     "shell.execute_reply": "2024-05-12T11:47:55.590879Z"
    },
    "papermill": {
     "duration": 0.024235,
     "end_time": "2024-05-12T11:47:55.594200",
     "exception": false,
     "start_time": "2024-05-12T11:47:55.569965",
     "status": "completed"
    },
    "tags": [],
    "ExecuteTime": {
     "end_time": "2025-07-19T03:35:39.919649Z",
     "start_time": "2025-07-19T03:35:39.910020Z"
    }
   },
   "source": "netflix.shape",
   "outputs": [
    {
     "data": {
      "text/plain": [
       "(8790, 10)"
      ]
     },
     "execution_count": 9,
     "metadata": {},
     "output_type": "execute_result"
    }
   ],
   "execution_count": 9
  },
  {
   "cell_type": "code",
   "id": "a40fad2f",
   "metadata": {
    "execution": {
     "iopub.execute_input": "2024-05-12T11:47:55.624250Z",
     "iopub.status.busy": "2024-05-12T11:47:55.623228Z",
     "iopub.status.idle": "2024-05-12T11:47:55.645773Z",
     "shell.execute_reply": "2024-05-12T11:47:55.644483Z"
    },
    "papermill": {
     "duration": 0.042088,
     "end_time": "2024-05-12T11:47:55.648748",
     "exception": false,
     "start_time": "2024-05-12T11:47:55.606660",
     "status": "completed"
    },
    "tags": [],
    "ExecuteTime": {
     "end_time": "2025-07-19T03:36:19.268500Z",
     "start_time": "2025-07-19T03:36:19.258795Z"
    }
   },
   "source": "netflix.columns",
   "outputs": [
    {
     "data": {
      "text/plain": [
       "Index(['show_id', 'type', 'title', 'director', 'country', 'date_added',\n",
       "       'release_year', 'rating', 'duration', 'listed_in'],\n",
       "      dtype='object')"
      ]
     },
     "execution_count": 10,
     "metadata": {},
     "output_type": "execute_result"
    }
   ],
   "execution_count": 10
  },
  {
   "cell_type": "markdown",
   "id": "eb01c011",
   "metadata": {
    "papermill": {
     "duration": 0.011622,
     "end_time": "2024-05-12T11:47:55.673036",
     "exception": false,
     "start_time": "2024-05-12T11:47:55.661414",
     "status": "completed"
    },
    "tags": []
   },
   "source": [
    "# 4. Data Cleaning"
   ]
  },
  {
   "cell_type": "code",
   "id": "498f46b8",
   "metadata": {
    "execution": {
     "iopub.execute_input": "2024-05-12T11:47:55.701584Z",
     "iopub.status.busy": "2024-05-12T11:47:55.700285Z",
     "iopub.status.idle": "2024-05-12T11:47:55.722705Z",
     "shell.execute_reply": "2024-05-12T11:47:55.721686Z"
    },
    "papermill": {
     "duration": 0.039661,
     "end_time": "2024-05-12T11:47:55.725480",
     "exception": false,
     "start_time": "2024-05-12T11:47:55.685819",
     "status": "completed"
    },
    "tags": [],
    "ExecuteTime": {
     "end_time": "2025-07-19T03:37:41.790614Z",
     "start_time": "2025-07-19T03:37:41.768387Z"
    }
   },
   "source": "netflix.duplicated().sum()",
   "outputs": [
    {
     "data": {
      "text/plain": [
       "0"
      ]
     },
     "execution_count": 12,
     "metadata": {},
     "output_type": "execute_result"
    }
   ],
   "execution_count": 12
  },
  {
   "cell_type": "code",
   "id": "da4a1cd9",
   "metadata": {
    "execution": {
     "iopub.execute_input": "2024-05-12T11:47:55.752970Z",
     "iopub.status.busy": "2024-05-12T11:47:55.752530Z",
     "iopub.status.idle": "2024-05-12T11:47:55.763551Z",
     "shell.execute_reply": "2024-05-12T11:47:55.762651Z"
    },
    "papermill": {
     "duration": 0.027862,
     "end_time": "2024-05-12T11:47:55.766219",
     "exception": false,
     "start_time": "2024-05-12T11:47:55.738357",
     "status": "completed"
    },
    "tags": [],
    "ExecuteTime": {
     "end_time": "2025-07-19T03:40:26.619683Z",
     "start_time": "2025-07-19T03:40:26.604602Z"
    }
   },
   "source": "netflix.isnull().sum()",
   "outputs": [
    {
     "data": {
      "text/plain": [
       "show_id         0\n",
       "type            0\n",
       "title           0\n",
       "director        0\n",
       "country         0\n",
       "date_added      0\n",
       "release_year    0\n",
       "rating          0\n",
       "duration        0\n",
       "listed_in       0\n",
       "dtype: int64"
      ]
     },
     "execution_count": 16,
     "metadata": {},
     "output_type": "execute_result"
    }
   ],
   "execution_count": 16
  },
  {
   "cell_type": "markdown",
   "id": "0ce1221c",
   "metadata": {
    "papermill": {
     "duration": 0.012237,
     "end_time": "2024-05-12T11:47:55.866410",
     "exception": false,
     "start_time": "2024-05-12T11:47:55.854173",
     "status": "completed"
    },
    "tags": []
   },
   "source": [
    "# Total Content on Netflix"
   ]
  },
  {
   "cell_type": "code",
   "id": "864187a3",
   "metadata": {
    "execution": {
     "iopub.execute_input": "2024-05-12T11:47:55.893987Z",
     "iopub.status.busy": "2024-05-12T11:47:55.892692Z",
     "iopub.status.idle": "2024-05-12T11:47:55.904083Z",
     "shell.execute_reply": "2024-05-12T11:47:55.902729Z"
    },
    "papermill": {
     "duration": 0.027497,
     "end_time": "2024-05-12T11:47:55.906504",
     "exception": false,
     "start_time": "2024-05-12T11:47:55.879007",
     "status": "completed"
    },
    "tags": [],
    "ExecuteTime": {
     "end_time": "2025-07-19T03:41:24.581164Z",
     "start_time": "2025-07-19T03:41:24.570476Z"
    }
   },
   "source": "netflix.shape[0]",
   "outputs": [
    {
     "data": {
      "text/plain": [
       "8790"
      ]
     },
     "execution_count": 17,
     "metadata": {},
     "output_type": "execute_result"
    }
   ],
   "execution_count": 17
  },
  {
   "cell_type": "markdown",
   "id": "0a7023b5",
   "metadata": {
    "papermill": {
     "duration": 0.012666,
     "end_time": "2024-05-12T11:47:56.418013",
     "exception": false,
     "start_time": "2024-05-12T11:47:56.405347",
     "status": "completed"
    },
    "tags": []
   },
   "source": [
    "#  Top 10 countries with Netflix Content"
   ]
  },
  {
   "cell_type": "code",
   "id": "6e1e99a1",
   "metadata": {
    "execution": {
     "iopub.execute_input": "2024-05-12T11:47:56.446650Z",
     "iopub.status.busy": "2024-05-12T11:47:56.446202Z",
     "iopub.status.idle": "2024-05-12T11:47:56.463860Z",
     "shell.execute_reply": "2024-05-12T11:47:56.462623Z"
    },
    "papermill": {
     "duration": 0.034952,
     "end_time": "2024-05-12T11:47:56.466497",
     "exception": false,
     "start_time": "2024-05-12T11:47:56.431545",
     "status": "completed"
    },
    "tags": [],
    "ExecuteTime": {
     "end_time": "2025-07-19T03:42:16.200154Z",
     "start_time": "2025-07-19T03:42:16.178501Z"
    }
   },
   "source": "netflix['country'].value_counts().head(10).reset_index()",
   "outputs": [
    {
     "data": {
      "text/plain": [
       "          country  count\n",
       "0   United States   3240\n",
       "1           India   1057\n",
       "2  United Kingdom    638\n",
       "3        Pakistan    421\n",
       "4       Not Given    287\n",
       "5          Canada    271\n",
       "6           Japan    259\n",
       "7     South Korea    214\n",
       "8          France    213\n",
       "9           Spain    182"
      ],
      "text/html": [
       "<div>\n",
       "<style scoped>\n",
       "    .dataframe tbody tr th:only-of-type {\n",
       "        vertical-align: middle;\n",
       "    }\n",
       "\n",
       "    .dataframe tbody tr th {\n",
       "        vertical-align: top;\n",
       "    }\n",
       "\n",
       "    .dataframe thead th {\n",
       "        text-align: right;\n",
       "    }\n",
       "</style>\n",
       "<table border=\"1\" class=\"dataframe\">\n",
       "  <thead>\n",
       "    <tr style=\"text-align: right;\">\n",
       "      <th></th>\n",
       "      <th>country</th>\n",
       "      <th>count</th>\n",
       "    </tr>\n",
       "  </thead>\n",
       "  <tbody>\n",
       "    <tr>\n",
       "      <th>0</th>\n",
       "      <td>United States</td>\n",
       "      <td>3240</td>\n",
       "    </tr>\n",
       "    <tr>\n",
       "      <th>1</th>\n",
       "      <td>India</td>\n",
       "      <td>1057</td>\n",
       "    </tr>\n",
       "    <tr>\n",
       "      <th>2</th>\n",
       "      <td>United Kingdom</td>\n",
       "      <td>638</td>\n",
       "    </tr>\n",
       "    <tr>\n",
       "      <th>3</th>\n",
       "      <td>Pakistan</td>\n",
       "      <td>421</td>\n",
       "    </tr>\n",
       "    <tr>\n",
       "      <th>4</th>\n",
       "      <td>Not Given</td>\n",
       "      <td>287</td>\n",
       "    </tr>\n",
       "    <tr>\n",
       "      <th>5</th>\n",
       "      <td>Canada</td>\n",
       "      <td>271</td>\n",
       "    </tr>\n",
       "    <tr>\n",
       "      <th>6</th>\n",
       "      <td>Japan</td>\n",
       "      <td>259</td>\n",
       "    </tr>\n",
       "    <tr>\n",
       "      <th>7</th>\n",
       "      <td>South Korea</td>\n",
       "      <td>214</td>\n",
       "    </tr>\n",
       "    <tr>\n",
       "      <th>8</th>\n",
       "      <td>France</td>\n",
       "      <td>213</td>\n",
       "    </tr>\n",
       "    <tr>\n",
       "      <th>9</th>\n",
       "      <td>Spain</td>\n",
       "      <td>182</td>\n",
       "    </tr>\n",
       "  </tbody>\n",
       "</table>\n",
       "</div>"
      ]
     },
     "execution_count": 18,
     "metadata": {},
     "output_type": "execute_result"
    }
   ],
   "execution_count": 18
  },
  {
   "cell_type": "markdown",
   "id": "4927bea3",
   "metadata": {
    "papermill": {
     "duration": 0.013929,
     "end_time": "2024-05-12T11:47:56.879102",
     "exception": false,
     "start_time": "2024-05-12T11:47:56.865173",
     "status": "completed"
    },
    "tags": []
   },
   "source": [
    "# Monthly Trend of Movie and TV Show Releases"
   ]
  },
  {
   "cell_type": "code",
   "id": "167475f2",
   "metadata": {
    "execution": {
     "iopub.execute_input": "2024-05-12T11:47:56.910231Z",
     "iopub.status.busy": "2024-05-12T11:47:56.909461Z",
     "iopub.status.idle": "2024-05-12T11:47:57.312675Z",
     "shell.execute_reply": "2024-05-12T11:47:57.311677Z"
    },
    "papermill": {
     "duration": 0.421824,
     "end_time": "2024-05-12T11:47:57.315283",
     "exception": false,
     "start_time": "2024-05-12T11:47:56.893459",
     "status": "completed"
    },
    "tags": [],
    "ExecuteTime": {
     "end_time": "2025-07-19T03:55:35.280886Z",
     "start_time": "2025-07-19T03:55:35.229864Z"
    }
   },
   "source": [
    "netflix['date_added'] = pd.to_datetime(netflix['date_added'], errors='coerce')\n",
    "\n",
    "netflix['Month'] = netflix['date_added'].dt.to_period('M')\n",
    "monthly_trend = netflix.groupby(['Month', 'type']).size().reset_index(name='Total Releases')\n",
    "monthly_trend"
   ],
   "outputs": [
    {
     "data": {
      "text/plain": [
       "       Month     type  Total Releases\n",
       "0    2008-01    Movie               1\n",
       "1    2008-02  TV Show               1\n",
       "2    2009-05    Movie               1\n",
       "3    2009-11    Movie               1\n",
       "4    2010-11    Movie               1\n",
       "..       ...      ...             ...\n",
       "188  2021-07  TV Show              88\n",
       "189  2021-08    Movie             117\n",
       "190  2021-08  TV Show              61\n",
       "191  2021-09    Movie             118\n",
       "192  2021-09  TV Show              65\n",
       "\n",
       "[193 rows x 3 columns]"
      ],
      "text/html": [
       "<div>\n",
       "<style scoped>\n",
       "    .dataframe tbody tr th:only-of-type {\n",
       "        vertical-align: middle;\n",
       "    }\n",
       "\n",
       "    .dataframe tbody tr th {\n",
       "        vertical-align: top;\n",
       "    }\n",
       "\n",
       "    .dataframe thead th {\n",
       "        text-align: right;\n",
       "    }\n",
       "</style>\n",
       "<table border=\"1\" class=\"dataframe\">\n",
       "  <thead>\n",
       "    <tr style=\"text-align: right;\">\n",
       "      <th></th>\n",
       "      <th>Month</th>\n",
       "      <th>type</th>\n",
       "      <th>Total Releases</th>\n",
       "    </tr>\n",
       "  </thead>\n",
       "  <tbody>\n",
       "    <tr>\n",
       "      <th>0</th>\n",
       "      <td>2008-01</td>\n",
       "      <td>Movie</td>\n",
       "      <td>1</td>\n",
       "    </tr>\n",
       "    <tr>\n",
       "      <th>1</th>\n",
       "      <td>2008-02</td>\n",
       "      <td>TV Show</td>\n",
       "      <td>1</td>\n",
       "    </tr>\n",
       "    <tr>\n",
       "      <th>2</th>\n",
       "      <td>2009-05</td>\n",
       "      <td>Movie</td>\n",
       "      <td>1</td>\n",
       "    </tr>\n",
       "    <tr>\n",
       "      <th>3</th>\n",
       "      <td>2009-11</td>\n",
       "      <td>Movie</td>\n",
       "      <td>1</td>\n",
       "    </tr>\n",
       "    <tr>\n",
       "      <th>4</th>\n",
       "      <td>2010-11</td>\n",
       "      <td>Movie</td>\n",
       "      <td>1</td>\n",
       "    </tr>\n",
       "    <tr>\n",
       "      <th>...</th>\n",
       "      <td>...</td>\n",
       "      <td>...</td>\n",
       "      <td>...</td>\n",
       "    </tr>\n",
       "    <tr>\n",
       "      <th>188</th>\n",
       "      <td>2021-07</td>\n",
       "      <td>TV Show</td>\n",
       "      <td>88</td>\n",
       "    </tr>\n",
       "    <tr>\n",
       "      <th>189</th>\n",
       "      <td>2021-08</td>\n",
       "      <td>Movie</td>\n",
       "      <td>117</td>\n",
       "    </tr>\n",
       "    <tr>\n",
       "      <th>190</th>\n",
       "      <td>2021-08</td>\n",
       "      <td>TV Show</td>\n",
       "      <td>61</td>\n",
       "    </tr>\n",
       "    <tr>\n",
       "      <th>191</th>\n",
       "      <td>2021-09</td>\n",
       "      <td>Movie</td>\n",
       "      <td>118</td>\n",
       "    </tr>\n",
       "    <tr>\n",
       "      <th>192</th>\n",
       "      <td>2021-09</td>\n",
       "      <td>TV Show</td>\n",
       "      <td>65</td>\n",
       "    </tr>\n",
       "  </tbody>\n",
       "</table>\n",
       "<p>193 rows × 3 columns</p>\n",
       "</div>"
      ]
     },
     "execution_count": 19,
     "metadata": {},
     "output_type": "execute_result"
    }
   ],
   "execution_count": 19
  },
  {
   "cell_type": "markdown",
   "id": "fdca9b6f",
   "metadata": {
    "papermill": {
     "duration": 0.015577,
     "end_time": "2024-05-12T11:47:57.347124",
     "exception": false,
     "start_time": "2024-05-12T11:47:57.331547",
     "status": "completed"
    },
    "tags": []
   },
   "source": [
    "#  Yearly Trend of Movie and TV Show Releases"
   ]
  },
  {
   "cell_type": "code",
   "id": "7a5a6a89",
   "metadata": {
    "execution": {
     "iopub.execute_input": "2024-05-12T11:47:57.381058Z",
     "iopub.status.busy": "2024-05-12T11:47:57.380234Z",
     "iopub.status.idle": "2024-05-12T11:47:57.776608Z",
     "shell.execute_reply": "2024-05-12T11:47:57.775733Z"
    },
    "papermill": {
     "duration": 0.416226,
     "end_time": "2024-05-12T11:47:57.778927",
     "exception": false,
     "start_time": "2024-05-12T11:47:57.362701",
     "status": "completed"
    },
    "tags": [],
    "ExecuteTime": {
     "end_time": "2025-07-19T03:56:49.264954Z",
     "start_time": "2025-07-19T03:56:49.247212Z"
    }
   },
   "source": [
    "netflix['Year'] = netflix['date_added'].dt.year\n",
    "\n",
    "yearly_trend = netflix.groupby(['Year', 'type']).size().reset_index(name='Total Releases')\n",
    "yearly_trend"
   ],
   "outputs": [
    {
     "data": {
      "text/plain": [
       "    Year     type  Total Releases\n",
       "0   2008    Movie               1\n",
       "1   2008  TV Show               1\n",
       "2   2009    Movie               2\n",
       "3   2010    Movie               1\n",
       "4   2011    Movie              13\n",
       "5   2012    Movie               3\n",
       "6   2013    Movie               6\n",
       "7   2013  TV Show               5\n",
       "8   2014    Movie              19\n",
       "9   2014  TV Show               5\n",
       "10  2015    Movie              56\n",
       "11  2015  TV Show              26\n",
       "12  2016    Movie             251\n",
       "13  2016  TV Show             175\n",
       "14  2017    Movie             836\n",
       "15  2017  TV Show             349\n",
       "16  2018    Movie            1237\n",
       "17  2018  TV Show             411\n",
       "18  2019    Movie            1424\n",
       "19  2019  TV Show             592\n",
       "20  2020    Movie            1284\n",
       "21  2020  TV Show             595\n",
       "22  2021    Movie             993\n",
       "23  2021  TV Show             505"
      ],
      "text/html": [
       "<div>\n",
       "<style scoped>\n",
       "    .dataframe tbody tr th:only-of-type {\n",
       "        vertical-align: middle;\n",
       "    }\n",
       "\n",
       "    .dataframe tbody tr th {\n",
       "        vertical-align: top;\n",
       "    }\n",
       "\n",
       "    .dataframe thead th {\n",
       "        text-align: right;\n",
       "    }\n",
       "</style>\n",
       "<table border=\"1\" class=\"dataframe\">\n",
       "  <thead>\n",
       "    <tr style=\"text-align: right;\">\n",
       "      <th></th>\n",
       "      <th>Year</th>\n",
       "      <th>type</th>\n",
       "      <th>Total Releases</th>\n",
       "    </tr>\n",
       "  </thead>\n",
       "  <tbody>\n",
       "    <tr>\n",
       "      <th>0</th>\n",
       "      <td>2008</td>\n",
       "      <td>Movie</td>\n",
       "      <td>1</td>\n",
       "    </tr>\n",
       "    <tr>\n",
       "      <th>1</th>\n",
       "      <td>2008</td>\n",
       "      <td>TV Show</td>\n",
       "      <td>1</td>\n",
       "    </tr>\n",
       "    <tr>\n",
       "      <th>2</th>\n",
       "      <td>2009</td>\n",
       "      <td>Movie</td>\n",
       "      <td>2</td>\n",
       "    </tr>\n",
       "    <tr>\n",
       "      <th>3</th>\n",
       "      <td>2010</td>\n",
       "      <td>Movie</td>\n",
       "      <td>1</td>\n",
       "    </tr>\n",
       "    <tr>\n",
       "      <th>4</th>\n",
       "      <td>2011</td>\n",
       "      <td>Movie</td>\n",
       "      <td>13</td>\n",
       "    </tr>\n",
       "    <tr>\n",
       "      <th>5</th>\n",
       "      <td>2012</td>\n",
       "      <td>Movie</td>\n",
       "      <td>3</td>\n",
       "    </tr>\n",
       "    <tr>\n",
       "      <th>6</th>\n",
       "      <td>2013</td>\n",
       "      <td>Movie</td>\n",
       "      <td>6</td>\n",
       "    </tr>\n",
       "    <tr>\n",
       "      <th>7</th>\n",
       "      <td>2013</td>\n",
       "      <td>TV Show</td>\n",
       "      <td>5</td>\n",
       "    </tr>\n",
       "    <tr>\n",
       "      <th>8</th>\n",
       "      <td>2014</td>\n",
       "      <td>Movie</td>\n",
       "      <td>19</td>\n",
       "    </tr>\n",
       "    <tr>\n",
       "      <th>9</th>\n",
       "      <td>2014</td>\n",
       "      <td>TV Show</td>\n",
       "      <td>5</td>\n",
       "    </tr>\n",
       "    <tr>\n",
       "      <th>10</th>\n",
       "      <td>2015</td>\n",
       "      <td>Movie</td>\n",
       "      <td>56</td>\n",
       "    </tr>\n",
       "    <tr>\n",
       "      <th>11</th>\n",
       "      <td>2015</td>\n",
       "      <td>TV Show</td>\n",
       "      <td>26</td>\n",
       "    </tr>\n",
       "    <tr>\n",
       "      <th>12</th>\n",
       "      <td>2016</td>\n",
       "      <td>Movie</td>\n",
       "      <td>251</td>\n",
       "    </tr>\n",
       "    <tr>\n",
       "      <th>13</th>\n",
       "      <td>2016</td>\n",
       "      <td>TV Show</td>\n",
       "      <td>175</td>\n",
       "    </tr>\n",
       "    <tr>\n",
       "      <th>14</th>\n",
       "      <td>2017</td>\n",
       "      <td>Movie</td>\n",
       "      <td>836</td>\n",
       "    </tr>\n",
       "    <tr>\n",
       "      <th>15</th>\n",
       "      <td>2017</td>\n",
       "      <td>TV Show</td>\n",
       "      <td>349</td>\n",
       "    </tr>\n",
       "    <tr>\n",
       "      <th>16</th>\n",
       "      <td>2018</td>\n",
       "      <td>Movie</td>\n",
       "      <td>1237</td>\n",
       "    </tr>\n",
       "    <tr>\n",
       "      <th>17</th>\n",
       "      <td>2018</td>\n",
       "      <td>TV Show</td>\n",
       "      <td>411</td>\n",
       "    </tr>\n",
       "    <tr>\n",
       "      <th>18</th>\n",
       "      <td>2019</td>\n",
       "      <td>Movie</td>\n",
       "      <td>1424</td>\n",
       "    </tr>\n",
       "    <tr>\n",
       "      <th>19</th>\n",
       "      <td>2019</td>\n",
       "      <td>TV Show</td>\n",
       "      <td>592</td>\n",
       "    </tr>\n",
       "    <tr>\n",
       "      <th>20</th>\n",
       "      <td>2020</td>\n",
       "      <td>Movie</td>\n",
       "      <td>1284</td>\n",
       "    </tr>\n",
       "    <tr>\n",
       "      <th>21</th>\n",
       "      <td>2020</td>\n",
       "      <td>TV Show</td>\n",
       "      <td>595</td>\n",
       "    </tr>\n",
       "    <tr>\n",
       "      <th>22</th>\n",
       "      <td>2021</td>\n",
       "      <td>Movie</td>\n",
       "      <td>993</td>\n",
       "    </tr>\n",
       "    <tr>\n",
       "      <th>23</th>\n",
       "      <td>2021</td>\n",
       "      <td>TV Show</td>\n",
       "      <td>505</td>\n",
       "    </tr>\n",
       "  </tbody>\n",
       "</table>\n",
       "</div>"
      ]
     },
     "execution_count": 20,
     "metadata": {},
     "output_type": "execute_result"
    }
   ],
   "execution_count": 20
  },
  {
   "cell_type": "markdown",
   "id": "a9c53bf2",
   "metadata": {
    "papermill": {
     "duration": 0.016494,
     "end_time": "2024-05-12T11:47:57.812428",
     "exception": false,
     "start_time": "2024-05-12T11:47:57.795934",
     "status": "completed"
    },
    "tags": []
   },
   "source": [
    "# Top 10 Movies"
   ]
  },
  {
   "cell_type": "code",
   "id": "80901ec3",
   "metadata": {
    "execution": {
     "iopub.execute_input": "2024-05-12T11:47:57.848387Z",
     "iopub.status.busy": "2024-05-12T11:47:57.847313Z",
     "iopub.status.idle": "2024-05-12T11:47:58.254510Z",
     "shell.execute_reply": "2024-05-12T11:47:58.253361Z"
    },
    "papermill": {
     "duration": 0.429478,
     "end_time": "2024-05-12T11:47:58.257988",
     "exception": false,
     "start_time": "2024-05-12T11:47:57.828510",
     "status": "completed"
    },
    "tags": [],
    "ExecuteTime": {
     "end_time": "2025-07-19T03:59:54.717036Z",
     "start_time": "2025-07-19T03:59:54.700857Z"
    }
   },
   "source": [
    "top_movies = netflix[netflix['type'] == 'Movie'].sort_values('release_year', ascending=False).head(10)\n",
    "top_movies[['title', 'release_year', 'duration', 'rating']].reset_index()"
   ],
   "outputs": [
    {
     "data": {
      "text/plain": [
       "   index                                   title  release_year duration rating\n",
       "0    949                                Super Me          2021  104 min  TV-14\n",
       "1   1259  The Yin-Yang Master: Dream Of Eternity          2021  133 min  TV-14\n",
       "2   1243                                 Red Dot          2021   86 min  TV-MA\n",
       "3   1244                            Squared Love          2021  102 min  TV-14\n",
       "4   1248   The Misadventures of Hedi and Cokeman          2021   99 min  TV-MA\n",
       "5   1255                         Malcolm & Marie          2021  106 min      R\n",
       "6    692               Major Grom: Plague Doctor          2021  138 min  TV-MA\n",
       "7   1256                          Space Sweepers          2021  138 min  TV-MA\n",
       "8   1257                     Strip Down, Rise Up          2021  113 min      R\n",
       "9    688                          Day of Destiny          2021  110 min  TV-PG"
      ],
      "text/html": [
       "<div>\n",
       "<style scoped>\n",
       "    .dataframe tbody tr th:only-of-type {\n",
       "        vertical-align: middle;\n",
       "    }\n",
       "\n",
       "    .dataframe tbody tr th {\n",
       "        vertical-align: top;\n",
       "    }\n",
       "\n",
       "    .dataframe thead th {\n",
       "        text-align: right;\n",
       "    }\n",
       "</style>\n",
       "<table border=\"1\" class=\"dataframe\">\n",
       "  <thead>\n",
       "    <tr style=\"text-align: right;\">\n",
       "      <th></th>\n",
       "      <th>index</th>\n",
       "      <th>title</th>\n",
       "      <th>release_year</th>\n",
       "      <th>duration</th>\n",
       "      <th>rating</th>\n",
       "    </tr>\n",
       "  </thead>\n",
       "  <tbody>\n",
       "    <tr>\n",
       "      <th>0</th>\n",
       "      <td>949</td>\n",
       "      <td>Super Me</td>\n",
       "      <td>2021</td>\n",
       "      <td>104 min</td>\n",
       "      <td>TV-14</td>\n",
       "    </tr>\n",
       "    <tr>\n",
       "      <th>1</th>\n",
       "      <td>1259</td>\n",
       "      <td>The Yin-Yang Master: Dream Of Eternity</td>\n",
       "      <td>2021</td>\n",
       "      <td>133 min</td>\n",
       "      <td>TV-14</td>\n",
       "    </tr>\n",
       "    <tr>\n",
       "      <th>2</th>\n",
       "      <td>1243</td>\n",
       "      <td>Red Dot</td>\n",
       "      <td>2021</td>\n",
       "      <td>86 min</td>\n",
       "      <td>TV-MA</td>\n",
       "    </tr>\n",
       "    <tr>\n",
       "      <th>3</th>\n",
       "      <td>1244</td>\n",
       "      <td>Squared Love</td>\n",
       "      <td>2021</td>\n",
       "      <td>102 min</td>\n",
       "      <td>TV-14</td>\n",
       "    </tr>\n",
       "    <tr>\n",
       "      <th>4</th>\n",
       "      <td>1248</td>\n",
       "      <td>The Misadventures of Hedi and Cokeman</td>\n",
       "      <td>2021</td>\n",
       "      <td>99 min</td>\n",
       "      <td>TV-MA</td>\n",
       "    </tr>\n",
       "    <tr>\n",
       "      <th>5</th>\n",
       "      <td>1255</td>\n",
       "      <td>Malcolm &amp; Marie</td>\n",
       "      <td>2021</td>\n",
       "      <td>106 min</td>\n",
       "      <td>R</td>\n",
       "    </tr>\n",
       "    <tr>\n",
       "      <th>6</th>\n",
       "      <td>692</td>\n",
       "      <td>Major Grom: Plague Doctor</td>\n",
       "      <td>2021</td>\n",
       "      <td>138 min</td>\n",
       "      <td>TV-MA</td>\n",
       "    </tr>\n",
       "    <tr>\n",
       "      <th>7</th>\n",
       "      <td>1256</td>\n",
       "      <td>Space Sweepers</td>\n",
       "      <td>2021</td>\n",
       "      <td>138 min</td>\n",
       "      <td>TV-MA</td>\n",
       "    </tr>\n",
       "    <tr>\n",
       "      <th>8</th>\n",
       "      <td>1257</td>\n",
       "      <td>Strip Down, Rise Up</td>\n",
       "      <td>2021</td>\n",
       "      <td>113 min</td>\n",
       "      <td>R</td>\n",
       "    </tr>\n",
       "    <tr>\n",
       "      <th>9</th>\n",
       "      <td>688</td>\n",
       "      <td>Day of Destiny</td>\n",
       "      <td>2021</td>\n",
       "      <td>110 min</td>\n",
       "      <td>TV-PG</td>\n",
       "    </tr>\n",
       "  </tbody>\n",
       "</table>\n",
       "</div>"
      ]
     },
     "execution_count": 22,
     "metadata": {},
     "output_type": "execute_result"
    }
   ],
   "execution_count": 22
  },
  {
   "cell_type": "markdown",
   "id": "94ee0043",
   "metadata": {
    "papermill": {
     "duration": 0.018256,
     "end_time": "2024-05-12T11:47:58.294946",
     "exception": false,
     "start_time": "2024-05-12T11:47:58.276690",
     "status": "completed"
    },
    "tags": []
   },
   "source": [
    "# Top 10 TV Show"
   ]
  },
  {
   "cell_type": "code",
   "id": "bfa34cff",
   "metadata": {
    "execution": {
     "iopub.execute_input": "2024-05-12T11:47:58.334422Z",
     "iopub.status.busy": "2024-05-12T11:47:58.333519Z",
     "iopub.status.idle": "2024-05-12T11:47:58.743291Z",
     "shell.execute_reply": "2024-05-12T11:47:58.740473Z"
    },
    "papermill": {
     "duration": 0.433393,
     "end_time": "2024-05-12T11:47:58.747081",
     "exception": false,
     "start_time": "2024-05-12T11:47:58.313688",
     "status": "completed"
    },
    "tags": [],
    "ExecuteTime": {
     "end_time": "2025-07-19T04:02:26.724919Z",
     "start_time": "2025-07-19T04:02:26.709877Z"
    }
   },
   "source": [
    "top_movies = netflix[netflix['type'] == 'TV Show'].sort_values('release_year', ascending=False).head(10)\n",
    "top_movies[['title', 'release_year', 'duration', 'rating']].reset_index()"
   ],
   "outputs": [
    {
     "data": {
      "text/plain": [
       "   index                             title  release_year   duration rating\n",
       "0      1                         Ganglands          2021   1 Season  TV-MA\n",
       "1   6840                        Zero Chill          2021   1 Season   TV-G\n",
       "2   6843                       Paradise PD          2021  3 Seasons  TV-MA\n",
       "3   6844                           The One          2021   1 Season  TV-MA\n",
       "4   6845                     The Houseboat          2021   1 Season  TV-14\n",
       "5   6846                     Bombay Begums          2021   1 Season  TV-MA\n",
       "6   6848                    City of Ghosts          2021   1 Season  TV-Y7\n",
       "7   6849            Pacific Rim: The Black          2021   1 Season  TV-14\n",
       "8   6850                        Word Party          2021  5 Seasons   TV-Y\n",
       "9   6855  Age of Samurai: Battle for Japan          2021   1 Season  TV-MA"
      ],
      "text/html": [
       "<div>\n",
       "<style scoped>\n",
       "    .dataframe tbody tr th:only-of-type {\n",
       "        vertical-align: middle;\n",
       "    }\n",
       "\n",
       "    .dataframe tbody tr th {\n",
       "        vertical-align: top;\n",
       "    }\n",
       "\n",
       "    .dataframe thead th {\n",
       "        text-align: right;\n",
       "    }\n",
       "</style>\n",
       "<table border=\"1\" class=\"dataframe\">\n",
       "  <thead>\n",
       "    <tr style=\"text-align: right;\">\n",
       "      <th></th>\n",
       "      <th>index</th>\n",
       "      <th>title</th>\n",
       "      <th>release_year</th>\n",
       "      <th>duration</th>\n",
       "      <th>rating</th>\n",
       "    </tr>\n",
       "  </thead>\n",
       "  <tbody>\n",
       "    <tr>\n",
       "      <th>0</th>\n",
       "      <td>1</td>\n",
       "      <td>Ganglands</td>\n",
       "      <td>2021</td>\n",
       "      <td>1 Season</td>\n",
       "      <td>TV-MA</td>\n",
       "    </tr>\n",
       "    <tr>\n",
       "      <th>1</th>\n",
       "      <td>6840</td>\n",
       "      <td>Zero Chill</td>\n",
       "      <td>2021</td>\n",
       "      <td>1 Season</td>\n",
       "      <td>TV-G</td>\n",
       "    </tr>\n",
       "    <tr>\n",
       "      <th>2</th>\n",
       "      <td>6843</td>\n",
       "      <td>Paradise PD</td>\n",
       "      <td>2021</td>\n",
       "      <td>3 Seasons</td>\n",
       "      <td>TV-MA</td>\n",
       "    </tr>\n",
       "    <tr>\n",
       "      <th>3</th>\n",
       "      <td>6844</td>\n",
       "      <td>The One</td>\n",
       "      <td>2021</td>\n",
       "      <td>1 Season</td>\n",
       "      <td>TV-MA</td>\n",
       "    </tr>\n",
       "    <tr>\n",
       "      <th>4</th>\n",
       "      <td>6845</td>\n",
       "      <td>The Houseboat</td>\n",
       "      <td>2021</td>\n",
       "      <td>1 Season</td>\n",
       "      <td>TV-14</td>\n",
       "    </tr>\n",
       "    <tr>\n",
       "      <th>5</th>\n",
       "      <td>6846</td>\n",
       "      <td>Bombay Begums</td>\n",
       "      <td>2021</td>\n",
       "      <td>1 Season</td>\n",
       "      <td>TV-MA</td>\n",
       "    </tr>\n",
       "    <tr>\n",
       "      <th>6</th>\n",
       "      <td>6848</td>\n",
       "      <td>City of Ghosts</td>\n",
       "      <td>2021</td>\n",
       "      <td>1 Season</td>\n",
       "      <td>TV-Y7</td>\n",
       "    </tr>\n",
       "    <tr>\n",
       "      <th>7</th>\n",
       "      <td>6849</td>\n",
       "      <td>Pacific Rim: The Black</td>\n",
       "      <td>2021</td>\n",
       "      <td>1 Season</td>\n",
       "      <td>TV-14</td>\n",
       "    </tr>\n",
       "    <tr>\n",
       "      <th>8</th>\n",
       "      <td>6850</td>\n",
       "      <td>Word Party</td>\n",
       "      <td>2021</td>\n",
       "      <td>5 Seasons</td>\n",
       "      <td>TV-Y</td>\n",
       "    </tr>\n",
       "    <tr>\n",
       "      <th>9</th>\n",
       "      <td>6855</td>\n",
       "      <td>Age of Samurai: Battle for Japan</td>\n",
       "      <td>2021</td>\n",
       "      <td>1 Season</td>\n",
       "      <td>TV-MA</td>\n",
       "    </tr>\n",
       "  </tbody>\n",
       "</table>\n",
       "</div>"
      ]
     },
     "execution_count": 23,
     "metadata": {},
     "output_type": "execute_result"
    }
   ],
   "execution_count": 23
  },
  {
   "cell_type": "markdown",
   "id": "afd33407",
   "metadata": {
    "papermill": {
     "duration": 0.026323,
     "end_time": "2024-05-12T11:47:58.799910",
     "exception": false,
     "start_time": "2024-05-12T11:47:58.773587",
     "status": "completed"
    },
    "tags": []
   },
   "source": [
    "#  Top_10_Directors"
   ]
  },
  {
   "cell_type": "code",
   "id": "5374900e",
   "metadata": {
    "execution": {
     "iopub.execute_input": "2024-05-12T11:47:58.842128Z",
     "iopub.status.busy": "2024-05-12T11:47:58.841737Z",
     "iopub.status.idle": "2024-05-12T11:47:58.857659Z",
     "shell.execute_reply": "2024-05-12T11:47:58.856365Z"
    },
    "papermill": {
     "duration": 0.040945,
     "end_time": "2024-05-12T11:47:58.861845",
     "exception": false,
     "start_time": "2024-05-12T11:47:58.820900",
     "status": "completed"
    },
    "tags": [],
    "ExecuteTime": {
     "end_time": "2025-07-19T04:05:39.126916Z",
     "start_time": "2025-07-19T04:05:39.113906Z"
    }
   },
   "source": "netflix['director'].value_counts().head(10).reset_index()",
   "outputs": [
    {
     "data": {
      "text/plain": [
       "                 director  count\n",
       "0               Not Given   2588\n",
       "1           Rajiv Chilaka     20\n",
       "2     Alastair Fothergill     18\n",
       "3  Raúl Campos, Jan Suter     18\n",
       "4             Suhas Kadav     16\n",
       "5            Marcus Raboy     16\n",
       "6               Jay Karas     14\n",
       "7     Cathy Garcia-Molina     13\n",
       "8         Martin Scorsese     12\n",
       "9         Youssef Chahine     12"
      ],
      "text/html": [
       "<div>\n",
       "<style scoped>\n",
       "    .dataframe tbody tr th:only-of-type {\n",
       "        vertical-align: middle;\n",
       "    }\n",
       "\n",
       "    .dataframe tbody tr th {\n",
       "        vertical-align: top;\n",
       "    }\n",
       "\n",
       "    .dataframe thead th {\n",
       "        text-align: right;\n",
       "    }\n",
       "</style>\n",
       "<table border=\"1\" class=\"dataframe\">\n",
       "  <thead>\n",
       "    <tr style=\"text-align: right;\">\n",
       "      <th></th>\n",
       "      <th>director</th>\n",
       "      <th>count</th>\n",
       "    </tr>\n",
       "  </thead>\n",
       "  <tbody>\n",
       "    <tr>\n",
       "      <th>0</th>\n",
       "      <td>Not Given</td>\n",
       "      <td>2588</td>\n",
       "    </tr>\n",
       "    <tr>\n",
       "      <th>1</th>\n",
       "      <td>Rajiv Chilaka</td>\n",
       "      <td>20</td>\n",
       "    </tr>\n",
       "    <tr>\n",
       "      <th>2</th>\n",
       "      <td>Alastair Fothergill</td>\n",
       "      <td>18</td>\n",
       "    </tr>\n",
       "    <tr>\n",
       "      <th>3</th>\n",
       "      <td>Raúl Campos, Jan Suter</td>\n",
       "      <td>18</td>\n",
       "    </tr>\n",
       "    <tr>\n",
       "      <th>4</th>\n",
       "      <td>Suhas Kadav</td>\n",
       "      <td>16</td>\n",
       "    </tr>\n",
       "    <tr>\n",
       "      <th>5</th>\n",
       "      <td>Marcus Raboy</td>\n",
       "      <td>16</td>\n",
       "    </tr>\n",
       "    <tr>\n",
       "      <th>6</th>\n",
       "      <td>Jay Karas</td>\n",
       "      <td>14</td>\n",
       "    </tr>\n",
       "    <tr>\n",
       "      <th>7</th>\n",
       "      <td>Cathy Garcia-Molina</td>\n",
       "      <td>13</td>\n",
       "    </tr>\n",
       "    <tr>\n",
       "      <th>8</th>\n",
       "      <td>Martin Scorsese</td>\n",
       "      <td>12</td>\n",
       "    </tr>\n",
       "    <tr>\n",
       "      <th>9</th>\n",
       "      <td>Youssef Chahine</td>\n",
       "      <td>12</td>\n",
       "    </tr>\n",
       "  </tbody>\n",
       "</table>\n",
       "</div>"
      ]
     },
     "execution_count": 24,
     "metadata": {},
     "output_type": "execute_result"
    }
   ],
   "execution_count": 24
  }
 ],
 "metadata": {
  "kaggle": {
   "accelerator": "none",
   "dataSources": [
    {
     "datasetId": 2437124,
     "sourceId": 4123716,
     "sourceType": "datasetVersion"
    }
   ],
   "dockerImageVersionId": 30698,
   "isGpuEnabled": false,
   "isInternetEnabled": true,
   "language": "python",
   "sourceType": "notebook"
  },
  "kernelspec": {
   "display_name": "Python 3 (ipykernel)",
   "language": "python",
   "name": "python3"
  },
  "language_info": {
   "codemirror_mode": {
    "name": "ipython",
    "version": 3
   },
   "file_extension": ".py",
   "mimetype": "text/x-python",
   "name": "python",
   "nbconvert_exporter": "python",
   "pygments_lexer": "ipython3",
   "version": "3.9.13"
  },
  "papermill": {
   "default_parameters": {},
   "duration": 10.67954,
   "end_time": "2024-05-12T11:48:00.055771",
   "environment_variables": {},
   "exception": null,
   "input_path": "__notebook__.ipynb",
   "output_path": "__notebook__.ipynb",
   "parameters": {},
   "start_time": "2024-05-12T11:47:49.376231",
   "version": "2.5.0"
  }
 },
 "nbformat": 4,
 "nbformat_minor": 5
}

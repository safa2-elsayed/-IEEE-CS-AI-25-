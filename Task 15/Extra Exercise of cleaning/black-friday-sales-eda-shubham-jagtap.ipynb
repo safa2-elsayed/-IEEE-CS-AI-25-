{
 "cells": [
  {
   "cell_type": "code",
   "id": "83eef118",
   "metadata": {
    "_cell_guid": "b1076dfc-b9ad-4769-8c92-a6c4dae69d19",
    "_uuid": "8f2839f25d086af736a60e9eeb907d3b93b6e0e5",
    "execution": {
     "iopub.execute_input": "2023-09-04T12:42:43.690663Z",
     "iopub.status.busy": "2023-09-04T12:42:43.690270Z",
     "iopub.status.idle": "2023-09-04T12:42:44.570016Z",
     "shell.execute_reply": "2023-09-04T12:42:44.568881Z"
    },
    "papermill": {
     "duration": 0.904212,
     "end_time": "2023-09-04T12:42:44.572678",
     "exception": false,
     "start_time": "2023-09-04T12:42:43.668466",
     "status": "completed"
    },
    "tags": [],
    "ExecuteTime": {
     "end_time": "2025-07-19T04:06:33.909211Z",
     "start_time": "2025-07-19T04:06:33.199115Z"
    }
   },
   "source": [
    "#import Libraries\n",
    "import pandas as pd\n",
    "import numpy as np\n"
   ],
   "outputs": [],
   "execution_count": 1
  },
  {
   "cell_type": "code",
   "id": "312c96bb",
   "metadata": {
    "execution": {
     "iopub.execute_input": "2023-09-04T12:42:44.613253Z",
     "iopub.status.busy": "2023-09-04T12:42:44.612417Z",
     "iopub.status.idle": "2023-09-04T12:42:45.809852Z",
     "shell.execute_reply": "2023-09-04T12:42:45.808667Z"
    },
    "papermill": {
     "duration": 1.220712,
     "end_time": "2023-09-04T12:42:45.812499",
     "exception": false,
     "start_time": "2023-09-04T12:42:44.591787",
     "status": "completed"
    },
    "tags": [],
    "ExecuteTime": {
     "end_time": "2025-07-19T04:07:28.694185Z",
     "start_time": "2025-07-19T04:07:28.277954Z"
    }
   },
   "source": [
    "#read csv\n",
    "df = pd.read_csv('train_blackFriday.csv')\n",
    "df"
   ],
   "outputs": [
    {
     "data": {
      "text/plain": [
       "        User_ID Product_ID Gender    Age  Occupation City_Category  \\\n",
       "0       1000001  P00069042      F   0-17          10             A   \n",
       "1       1000001  P00248942      F   0-17          10             A   \n",
       "2       1000001  P00087842      F   0-17          10             A   \n",
       "3       1000001  P00085442      F   0-17          10             A   \n",
       "4       1000002  P00285442      M    55+          16             C   \n",
       "...         ...        ...    ...    ...         ...           ...   \n",
       "550063  1006033  P00372445      M  51-55          13             B   \n",
       "550064  1006035  P00375436      F  26-35           1             C   \n",
       "550065  1006036  P00375436      F  26-35          15             B   \n",
       "550066  1006038  P00375436      F    55+           1             C   \n",
       "550067  1006039  P00371644      F  46-50           0             B   \n",
       "\n",
       "       Stay_In_Current_City_Years  Marital_Status  Product_Category_1  \\\n",
       "0                               2               0                   3   \n",
       "1                               2               0                   1   \n",
       "2                               2               0                  12   \n",
       "3                               2               0                  12   \n",
       "4                              4+               0                   8   \n",
       "...                           ...             ...                 ...   \n",
       "550063                          1               1                  20   \n",
       "550064                          3               0                  20   \n",
       "550065                         4+               1                  20   \n",
       "550066                          2               0                  20   \n",
       "550067                         4+               1                  20   \n",
       "\n",
       "        Product_Category_2  Product_Category_3  Purchase  \n",
       "0                      NaN                 NaN      8370  \n",
       "1                      6.0                14.0     15200  \n",
       "2                      NaN                 NaN      1422  \n",
       "3                     14.0                 NaN      1057  \n",
       "4                      NaN                 NaN      7969  \n",
       "...                    ...                 ...       ...  \n",
       "550063                 NaN                 NaN       368  \n",
       "550064                 NaN                 NaN       371  \n",
       "550065                 NaN                 NaN       137  \n",
       "550066                 NaN                 NaN       365  \n",
       "550067                 NaN                 NaN       490  \n",
       "\n",
       "[550068 rows x 12 columns]"
      ],
      "text/html": [
       "<div>\n",
       "<style scoped>\n",
       "    .dataframe tbody tr th:only-of-type {\n",
       "        vertical-align: middle;\n",
       "    }\n",
       "\n",
       "    .dataframe tbody tr th {\n",
       "        vertical-align: top;\n",
       "    }\n",
       "\n",
       "    .dataframe thead th {\n",
       "        text-align: right;\n",
       "    }\n",
       "</style>\n",
       "<table border=\"1\" class=\"dataframe\">\n",
       "  <thead>\n",
       "    <tr style=\"text-align: right;\">\n",
       "      <th></th>\n",
       "      <th>User_ID</th>\n",
       "      <th>Product_ID</th>\n",
       "      <th>Gender</th>\n",
       "      <th>Age</th>\n",
       "      <th>Occupation</th>\n",
       "      <th>City_Category</th>\n",
       "      <th>Stay_In_Current_City_Years</th>\n",
       "      <th>Marital_Status</th>\n",
       "      <th>Product_Category_1</th>\n",
       "      <th>Product_Category_2</th>\n",
       "      <th>Product_Category_3</th>\n",
       "      <th>Purchase</th>\n",
       "    </tr>\n",
       "  </thead>\n",
       "  <tbody>\n",
       "    <tr>\n",
       "      <th>0</th>\n",
       "      <td>1000001</td>\n",
       "      <td>P00069042</td>\n",
       "      <td>F</td>\n",
       "      <td>0-17</td>\n",
       "      <td>10</td>\n",
       "      <td>A</td>\n",
       "      <td>2</td>\n",
       "      <td>0</td>\n",
       "      <td>3</td>\n",
       "      <td>NaN</td>\n",
       "      <td>NaN</td>\n",
       "      <td>8370</td>\n",
       "    </tr>\n",
       "    <tr>\n",
       "      <th>1</th>\n",
       "      <td>1000001</td>\n",
       "      <td>P00248942</td>\n",
       "      <td>F</td>\n",
       "      <td>0-17</td>\n",
       "      <td>10</td>\n",
       "      <td>A</td>\n",
       "      <td>2</td>\n",
       "      <td>0</td>\n",
       "      <td>1</td>\n",
       "      <td>6.0</td>\n",
       "      <td>14.0</td>\n",
       "      <td>15200</td>\n",
       "    </tr>\n",
       "    <tr>\n",
       "      <th>2</th>\n",
       "      <td>1000001</td>\n",
       "      <td>P00087842</td>\n",
       "      <td>F</td>\n",
       "      <td>0-17</td>\n",
       "      <td>10</td>\n",
       "      <td>A</td>\n",
       "      <td>2</td>\n",
       "      <td>0</td>\n",
       "      <td>12</td>\n",
       "      <td>NaN</td>\n",
       "      <td>NaN</td>\n",
       "      <td>1422</td>\n",
       "    </tr>\n",
       "    <tr>\n",
       "      <th>3</th>\n",
       "      <td>1000001</td>\n",
       "      <td>P00085442</td>\n",
       "      <td>F</td>\n",
       "      <td>0-17</td>\n",
       "      <td>10</td>\n",
       "      <td>A</td>\n",
       "      <td>2</td>\n",
       "      <td>0</td>\n",
       "      <td>12</td>\n",
       "      <td>14.0</td>\n",
       "      <td>NaN</td>\n",
       "      <td>1057</td>\n",
       "    </tr>\n",
       "    <tr>\n",
       "      <th>4</th>\n",
       "      <td>1000002</td>\n",
       "      <td>P00285442</td>\n",
       "      <td>M</td>\n",
       "      <td>55+</td>\n",
       "      <td>16</td>\n",
       "      <td>C</td>\n",
       "      <td>4+</td>\n",
       "      <td>0</td>\n",
       "      <td>8</td>\n",
       "      <td>NaN</td>\n",
       "      <td>NaN</td>\n",
       "      <td>7969</td>\n",
       "    </tr>\n",
       "    <tr>\n",
       "      <th>...</th>\n",
       "      <td>...</td>\n",
       "      <td>...</td>\n",
       "      <td>...</td>\n",
       "      <td>...</td>\n",
       "      <td>...</td>\n",
       "      <td>...</td>\n",
       "      <td>...</td>\n",
       "      <td>...</td>\n",
       "      <td>...</td>\n",
       "      <td>...</td>\n",
       "      <td>...</td>\n",
       "      <td>...</td>\n",
       "    </tr>\n",
       "    <tr>\n",
       "      <th>550063</th>\n",
       "      <td>1006033</td>\n",
       "      <td>P00372445</td>\n",
       "      <td>M</td>\n",
       "      <td>51-55</td>\n",
       "      <td>13</td>\n",
       "      <td>B</td>\n",
       "      <td>1</td>\n",
       "      <td>1</td>\n",
       "      <td>20</td>\n",
       "      <td>NaN</td>\n",
       "      <td>NaN</td>\n",
       "      <td>368</td>\n",
       "    </tr>\n",
       "    <tr>\n",
       "      <th>550064</th>\n",
       "      <td>1006035</td>\n",
       "      <td>P00375436</td>\n",
       "      <td>F</td>\n",
       "      <td>26-35</td>\n",
       "      <td>1</td>\n",
       "      <td>C</td>\n",
       "      <td>3</td>\n",
       "      <td>0</td>\n",
       "      <td>20</td>\n",
       "      <td>NaN</td>\n",
       "      <td>NaN</td>\n",
       "      <td>371</td>\n",
       "    </tr>\n",
       "    <tr>\n",
       "      <th>550065</th>\n",
       "      <td>1006036</td>\n",
       "      <td>P00375436</td>\n",
       "      <td>F</td>\n",
       "      <td>26-35</td>\n",
       "      <td>15</td>\n",
       "      <td>B</td>\n",
       "      <td>4+</td>\n",
       "      <td>1</td>\n",
       "      <td>20</td>\n",
       "      <td>NaN</td>\n",
       "      <td>NaN</td>\n",
       "      <td>137</td>\n",
       "    </tr>\n",
       "    <tr>\n",
       "      <th>550066</th>\n",
       "      <td>1006038</td>\n",
       "      <td>P00375436</td>\n",
       "      <td>F</td>\n",
       "      <td>55+</td>\n",
       "      <td>1</td>\n",
       "      <td>C</td>\n",
       "      <td>2</td>\n",
       "      <td>0</td>\n",
       "      <td>20</td>\n",
       "      <td>NaN</td>\n",
       "      <td>NaN</td>\n",
       "      <td>365</td>\n",
       "    </tr>\n",
       "    <tr>\n",
       "      <th>550067</th>\n",
       "      <td>1006039</td>\n",
       "      <td>P00371644</td>\n",
       "      <td>F</td>\n",
       "      <td>46-50</td>\n",
       "      <td>0</td>\n",
       "      <td>B</td>\n",
       "      <td>4+</td>\n",
       "      <td>1</td>\n",
       "      <td>20</td>\n",
       "      <td>NaN</td>\n",
       "      <td>NaN</td>\n",
       "      <td>490</td>\n",
       "    </tr>\n",
       "  </tbody>\n",
       "</table>\n",
       "<p>550068 rows × 12 columns</p>\n",
       "</div>"
      ]
     },
     "execution_count": 2,
     "metadata": {},
     "output_type": "execute_result"
    }
   ],
   "execution_count": 2
  },
  {
   "cell_type": "code",
   "id": "2d5d1292",
   "metadata": {
    "execution": {
     "iopub.execute_input": "2023-09-04T12:42:45.864134Z",
     "iopub.status.busy": "2023-09-04T12:42:45.863708Z",
     "iopub.status.idle": "2023-09-04T12:42:45.870972Z",
     "shell.execute_reply": "2023-09-04T12:42:45.869732Z"
    },
    "papermill": {
     "duration": 0.040451,
     "end_time": "2023-09-04T12:42:45.873616",
     "exception": false,
     "start_time": "2023-09-04T12:42:45.833165",
     "status": "completed"
    },
    "tags": [],
    "ExecuteTime": {
     "end_time": "2025-07-19T04:08:11.619895Z",
     "start_time": "2025-07-19T04:08:11.613373Z"
    }
   },
   "source": [
    "#number of rows and coulmns\n",
    "df.shape"
   ],
   "outputs": [
    {
     "data": {
      "text/plain": [
       "(550068, 12)"
      ]
     },
     "execution_count": 3,
     "metadata": {},
     "output_type": "execute_result"
    }
   ],
   "execution_count": 3
  },
  {
   "cell_type": "code",
   "id": "df4207ae",
   "metadata": {
    "execution": {
     "iopub.execute_input": "2023-09-04T12:42:45.918078Z",
     "iopub.status.busy": "2023-09-04T12:42:45.917532Z",
     "iopub.status.idle": "2023-09-04T12:42:45.931049Z",
     "shell.execute_reply": "2023-09-04T12:42:45.929987Z"
    },
    "papermill": {
     "duration": 0.039371,
     "end_time": "2023-09-04T12:42:45.934384",
     "exception": false,
     "start_time": "2023-09-04T12:42:45.895013",
     "status": "completed"
    },
    "tags": [],
    "ExecuteTime": {
     "end_time": "2025-07-19T04:08:22.033815Z",
     "start_time": "2025-07-19T04:08:22.026241Z"
    }
   },
   "source": [
    "#show data types found\n",
    "df.dtypes"
   ],
   "outputs": [
    {
     "data": {
      "text/plain": [
       "User_ID                         int64\n",
       "Product_ID                     object\n",
       "Gender                         object\n",
       "Age                            object\n",
       "Occupation                      int64\n",
       "City_Category                  object\n",
       "Stay_In_Current_City_Years     object\n",
       "Marital_Status                  int64\n",
       "Product_Category_1              int64\n",
       "Product_Category_2            float64\n",
       "Product_Category_3            float64\n",
       "Purchase                        int64\n",
       "dtype: object"
      ]
     },
     "execution_count": 4,
     "metadata": {},
     "output_type": "execute_result"
    }
   ],
   "execution_count": 4
  },
  {
   "cell_type": "code",
   "id": "114528be",
   "metadata": {
    "execution": {
     "iopub.execute_input": "2023-09-04T12:42:45.976930Z",
     "iopub.status.busy": "2023-09-04T12:42:45.976513Z",
     "iopub.status.idle": "2023-09-04T12:42:45.984519Z",
     "shell.execute_reply": "2023-09-04T12:42:45.983316Z"
    },
    "papermill": {
     "duration": 0.032531,
     "end_time": "2023-09-04T12:42:45.986946",
     "exception": false,
     "start_time": "2023-09-04T12:42:45.954415",
     "status": "completed"
    },
    "tags": [],
    "ExecuteTime": {
     "end_time": "2025-07-19T04:08:31.202344Z",
     "start_time": "2025-07-19T04:08:31.195094Z"
    }
   },
   "source": [
    "#show coulmns\n",
    "df.columns"
   ],
   "outputs": [
    {
     "data": {
      "text/plain": [
       "Index(['User_ID', 'Product_ID', 'Gender', 'Age', 'Occupation', 'City_Category',\n",
       "       'Stay_In_Current_City_Years', 'Marital_Status', 'Product_Category_1',\n",
       "       'Product_Category_2', 'Product_Category_3', 'Purchase'],\n",
       "      dtype='object')"
      ]
     },
     "execution_count": 5,
     "metadata": {},
     "output_type": "execute_result"
    }
   ],
   "execution_count": 5
  },
  {
   "cell_type": "code",
   "id": "cc5e7240",
   "metadata": {
    "execution": {
     "iopub.execute_input": "2023-09-04T12:42:46.030078Z",
     "iopub.status.busy": "2023-09-04T12:42:46.029621Z",
     "iopub.status.idle": "2023-09-04T12:42:46.321912Z",
     "shell.execute_reply": "2023-09-04T12:42:46.320784Z"
    },
    "papermill": {
     "duration": 0.317204,
     "end_time": "2023-09-04T12:42:46.324671",
     "exception": false,
     "start_time": "2023-09-04T12:42:46.007467",
     "status": "completed"
    },
    "tags": [],
    "ExecuteTime": {
     "end_time": "2025-07-19T04:08:45.070358Z",
     "start_time": "2025-07-19T04:08:44.991853Z"
    }
   },
   "source": [
    "#Checking NaN values in the given dataset\n",
    "df.isnull().sum()"
   ],
   "outputs": [
    {
     "data": {
      "text/plain": [
       "User_ID                            0\n",
       "Product_ID                         0\n",
       "Gender                             0\n",
       "Age                                0\n",
       "Occupation                         0\n",
       "City_Category                      0\n",
       "Stay_In_Current_City_Years         0\n",
       "Marital_Status                     0\n",
       "Product_Category_1                 0\n",
       "Product_Category_2            173638\n",
       "Product_Category_3            383247\n",
       "Purchase                           0\n",
       "dtype: int64"
      ]
     },
     "execution_count": 6,
     "metadata": {},
     "output_type": "execute_result"
    }
   ],
   "execution_count": 6
  },
  {
   "cell_type": "code",
   "id": "19f96834",
   "metadata": {
    "execution": {
     "iopub.execute_input": "2023-09-04T12:42:46.369049Z",
     "iopub.status.busy": "2023-09-04T12:42:46.368641Z",
     "iopub.status.idle": "2023-09-04T12:42:46.793355Z",
     "shell.execute_reply": "2023-09-04T12:42:46.791967Z"
    },
    "papermill": {
     "duration": 0.450066,
     "end_time": "2023-09-04T12:42:46.796009",
     "exception": false,
     "start_time": "2023-09-04T12:42:46.345943",
     "status": "completed"
    },
    "tags": [],
    "ExecuteTime": {
     "end_time": "2025-07-19T04:09:01.056776Z",
     "start_time": "2025-07-19T04:09:00.793794Z"
    }
   },
   "source": [
    "#Checking duplicate values in the dataset\n",
    "df.duplicated().sum()"
   ],
   "outputs": [
    {
     "data": {
      "text/plain": [
       "0"
      ]
     },
     "execution_count": 7,
     "metadata": {},
     "output_type": "execute_result"
    }
   ],
   "execution_count": 7
  },
  {
   "cell_type": "code",
   "id": "ed3af260",
   "metadata": {
    "execution": {
     "iopub.execute_input": "2023-09-04T12:42:46.839038Z",
     "iopub.status.busy": "2023-09-04T12:42:46.838623Z",
     "iopub.status.idle": "2023-09-04T12:42:46.859025Z",
     "shell.execute_reply": "2023-09-04T12:42:46.858108Z"
    },
    "papermill": {
     "duration": 0.044714,
     "end_time": "2023-09-04T12:42:46.861385",
     "exception": false,
     "start_time": "2023-09-04T12:42:46.816671",
     "status": "completed"
    },
    "tags": [],
    "ExecuteTime": {
     "end_time": "2025-07-19T04:10:13.549650Z",
     "start_time": "2025-07-19T04:10:13.543013Z"
    }
   },
   "source": [
    "#Renaming the column name to lower case\n",
    "df.columns  = df.columns.str.lower()\n",
    "df.columns"
   ],
   "outputs": [
    {
     "data": {
      "text/plain": [
       "Index(['user_id', 'product_id', 'gender', 'age', 'occupation', 'city_category',\n",
       "       'stay_in_current_city_years', 'marital_status', 'product_category_1',\n",
       "       'product_category_2', 'product_category_3', 'purchase'],\n",
       "      dtype='object')"
      ]
     },
     "execution_count": 9,
     "metadata": {},
     "output_type": "execute_result"
    }
   ],
   "execution_count": 9
  },
  {
   "cell_type": "code",
   "id": "079add94",
   "metadata": {
    "execution": {
     "iopub.execute_input": "2023-09-04T12:42:46.906750Z",
     "iopub.status.busy": "2023-09-04T12:42:46.906115Z",
     "iopub.status.idle": "2023-09-04T12:42:46.952771Z",
     "shell.execute_reply": "2023-09-04T12:42:46.951569Z"
    },
    "papermill": {
     "duration": 0.072934,
     "end_time": "2023-09-04T12:42:46.955437",
     "exception": false,
     "start_time": "2023-09-04T12:42:46.882503",
     "status": "completed"
    },
    "tags": [],
    "ExecuteTime": {
     "end_time": "2025-07-19T04:10:41.135033Z",
     "start_time": "2025-07-19T04:10:41.093740Z"
    }
   },
   "source": [
    "#Removing Reducant Values (user id)\n",
    "df.drop(['user_id'], axis=1,inplace=True)"
   ],
   "outputs": [],
   "execution_count": 10
  },
  {
   "cell_type": "code",
   "id": "28e0eaaf",
   "metadata": {
    "execution": {
     "iopub.execute_input": "2023-09-04T12:42:47.000808Z",
     "iopub.status.busy": "2023-09-04T12:42:47.000407Z",
     "iopub.status.idle": "2023-09-04T12:42:47.064662Z",
     "shell.execute_reply": "2023-09-04T12:42:47.063307Z"
    },
    "papermill": {
     "duration": 0.090484,
     "end_time": "2023-09-04T12:42:47.067279",
     "exception": false,
     "start_time": "2023-09-04T12:42:46.976795",
     "status": "completed"
    },
    "tags": [],
    "ExecuteTime": {
     "end_time": "2025-07-19T04:10:58.823848Z",
     "start_time": "2025-07-19T04:10:58.687712Z"
    }
   },
   "source": [
    "#Checking for unique values in each individual column of the dataset\n",
    "df.nunique()"
   ],
   "outputs": [
    {
     "data": {
      "text/plain": [
       "product_id                     3631\n",
       "gender                            2\n",
       "age                               7\n",
       "occupation                       21\n",
       "city_category                     3\n",
       "stay_in_current_city_years        5\n",
       "marital_status                    2\n",
       "product_category_1               20\n",
       "product_category_2               17\n",
       "product_category_3               15\n",
       "purchase                      18105\n",
       "dtype: int64"
      ]
     },
     "execution_count": 11,
     "metadata": {},
     "output_type": "execute_result"
    }
   ],
   "execution_count": 11
  },
  {
   "cell_type": "code",
   "id": "a0b5ebe4",
   "metadata": {
    "execution": {
     "iopub.execute_input": "2023-09-04T12:42:47.111701Z",
     "iopub.status.busy": "2023-09-04T12:42:47.111258Z",
     "iopub.status.idle": "2023-09-04T12:42:47.162551Z",
     "shell.execute_reply": "2023-09-04T12:42:47.161600Z"
    },
    "papermill": {
     "duration": 0.07623,
     "end_time": "2023-09-04T12:42:47.164712",
     "exception": false,
     "start_time": "2023-09-04T12:42:47.088482",
     "status": "completed"
    },
    "tags": [],
    "ExecuteTime": {
     "end_time": "2025-07-19T04:12:45.940471Z",
     "start_time": "2025-07-19T04:12:45.802163Z"
    }
   },
   "source": [
    "for column in df.columns:\n",
    "    print(f\"Unique Values in {column}: {df[column].nunique()}\")"
   ],
   "outputs": [
    {
     "name": "stdout",
     "output_type": "stream",
     "text": [
      "Unique Values in product_id: 3631\n",
      "Unique Values in gender: 2\n",
      "Unique Values in age: 7\n",
      "Unique Values in occupation: 21\n",
      "Unique Values in city_category: 3\n",
      "Unique Values in stay_in_current_city_years: 5\n",
      "Unique Values in marital_status: 2\n",
      "Unique Values in product_category_1: 20\n",
      "Unique Values in product_category_2: 17\n",
      "Unique Values in product_category_3: 15\n",
      "Unique Values in purchase: 18105\n"
     ]
    }
   ],
   "execution_count": 12
  },
  {
   "cell_type": "code",
   "id": "d7ad702f",
   "metadata": {
    "execution": {
     "iopub.execute_input": "2023-09-04T12:42:47.273682Z",
     "iopub.status.busy": "2023-09-04T12:42:47.273239Z",
     "iopub.status.idle": "2023-09-04T12:42:47.326823Z",
     "shell.execute_reply": "2023-09-04T12:42:47.325530Z"
    },
    "papermill": {
     "duration": 0.142623,
     "end_time": "2023-09-04T12:42:47.329747",
     "exception": false,
     "start_time": "2023-09-04T12:42:47.187124",
     "status": "completed"
    },
    "tags": [],
    "ExecuteTime": {
     "end_time": "2025-07-19T04:14:11.482397Z",
     "start_time": "2025-07-19T04:14:11.345723Z"
    }
   },
   "source": [
    "for column in df.columns:\n",
    "    print(f\"Unique Values in {column}: {df[column].unique()}\")"
   ],
   "outputs": [
    {
     "name": "stdout",
     "output_type": "stream",
     "text": [
      "Unique Values in product_id: ['P00069042' 'P00248942' 'P00087842' ... 'P00370293' 'P00371644'\n",
      " 'P00370853']\n",
      "Unique Values in gender: ['F' 'M']\n",
      "Unique Values in age: ['0-17' '55+' '26-35' '46-50' '51-55' '36-45' '18-25']\n",
      "Unique Values in occupation: [10 16 15  7 20  9  1 12 17  0  3  4 11  8 19  2 18  5 14 13  6]\n",
      "Unique Values in city_category: ['A' 'C' 'B']\n",
      "Unique Values in stay_in_current_city_years: ['2' '4+' '3' '1' '0']\n",
      "Unique Values in marital_status: [0 1]\n",
      "Unique Values in product_category_1: [ 3  1 12  8  5  4  2  6 14 11 13 15  7 16 18 10 17  9 20 19]\n",
      "Unique Values in product_category_2: [nan  6. 14.  2.  8. 15. 16. 11.  5.  3.  4. 12.  9. 10. 17. 13.  7. 18.]\n",
      "Unique Values in product_category_3: [nan 14. 17.  5.  4. 16. 15.  8.  9. 13.  6. 12.  3. 18. 11. 10.]\n",
      "Unique Values in purchase: [ 8370 15200  1422 ...   135   123   613]\n"
     ]
    }
   ],
   "execution_count": 13
  },
  {
   "cell_type": "code",
   "id": "b0ae3ebc",
   "metadata": {
    "execution": {
     "iopub.execute_input": "2023-09-04T12:42:47.375840Z",
     "iopub.status.busy": "2023-09-04T12:42:47.375450Z",
     "iopub.status.idle": "2023-09-04T12:42:55.653538Z",
     "shell.execute_reply": "2023-09-04T12:42:55.652133Z"
    },
    "papermill": {
     "duration": 8.304288,
     "end_time": "2023-09-04T12:42:55.656316",
     "exception": false,
     "start_time": "2023-09-04T12:42:47.352028",
     "status": "completed"
    },
    "tags": [],
    "ExecuteTime": {
     "end_time": "2025-07-19T04:20:19.127305Z",
     "start_time": "2025-07-19T04:20:19.084690Z"
    }
   },
   "source": [
    "#replace each range in age coulmn to its creosspond category ex:0-17 ->child ,18-25 ->teenage, 26-50 -> adult , 51-55+ ->old\n",
    "\n",
    "age_map = {\n",
    "    '0-17': 'Child',\n",
    "    '18-25': 'Young Adult',\n",
    "    '26-35': 'Adult',\n",
    "    '36-45': 'Mid Adult',\n",
    "    '46-50': 'Senior Adult',\n",
    "    '51-55': 'Senior',\n",
    "    '55+': 'Elderly'\n",
    "}\n",
    "df['age_group'] = df['age'].map(age_map)"
   ],
   "outputs": [],
   "execution_count": 14
  },
  {
   "cell_type": "code",
   "id": "bf6a87a1",
   "metadata": {
    "execution": {
     "iopub.execute_input": "2023-09-04T12:42:55.706945Z",
     "iopub.status.busy": "2023-09-04T12:42:55.706538Z",
     "iopub.status.idle": "2023-09-04T12:42:55.758290Z",
     "shell.execute_reply": "2023-09-04T12:42:55.757033Z"
    },
    "papermill": {
     "duration": 0.081656,
     "end_time": "2023-09-04T12:42:55.760960",
     "exception": false,
     "start_time": "2023-09-04T12:42:55.679304",
     "status": "completed"
    },
    "tags": [],
    "ExecuteTime": {
     "end_time": "2025-07-19T04:20:32.978094Z",
     "start_time": "2025-07-19T04:20:32.845925Z"
    }
   },
   "source": "df['stay_in_current_city_years'] = df['stay_in_current_city_years'].str.replace('+', '').astype(int)",
   "outputs": [],
   "execution_count": 15
  },
  {
   "cell_type": "code",
   "id": "ae4214b5",
   "metadata": {
    "execution": {
     "iopub.execute_input": "2023-09-04T12:42:55.808630Z",
     "iopub.status.busy": "2023-09-04T12:42:55.808206Z",
     "iopub.status.idle": "2023-09-04T12:42:55.818281Z",
     "shell.execute_reply": "2023-09-04T12:42:55.817407Z"
    },
    "papermill": {
     "duration": 0.037076,
     "end_time": "2023-09-04T12:42:55.820762",
     "exception": false,
     "start_time": "2023-09-04T12:42:55.783686",
     "status": "completed"
    },
    "tags": [],
    "ExecuteTime": {
     "end_time": "2025-07-19T04:35:34.124417Z",
     "start_time": "2025-07-19T04:35:34.117729Z"
    }
   },
   "source": [
    "df['product_category_2'].fillna(0, inplace=True)\n",
    "df['product_category_3'].fillna(0, inplace=True)\n"
   ],
   "outputs": [
    {
     "name": "stderr",
     "output_type": "stream",
     "text": [
      "C:\\Users\\SAFAA\\AppData\\Local\\Temp\\ipykernel_1300\\3979036528.py:1: FutureWarning: A value is trying to be set on a copy of a DataFrame or Series through chained assignment using an inplace method.\n",
      "The behavior will change in pandas 3.0. This inplace method will never work because the intermediate object on which we are setting values always behaves as a copy.\n",
      "\n",
      "For example, when doing 'df[col].method(value, inplace=True)', try using 'df.method({col: value}, inplace=True)' or df[col] = df[col].method(value) instead, to perform the operation inplace on the original object.\n",
      "\n",
      "\n",
      "  df['product_category_2'].fillna(0, inplace=True)\n",
      "C:\\Users\\SAFAA\\AppData\\Local\\Temp\\ipykernel_1300\\3979036528.py:2: FutureWarning: A value is trying to be set on a copy of a DataFrame or Series through chained assignment using an inplace method.\n",
      "The behavior will change in pandas 3.0. This inplace method will never work because the intermediate object on which we are setting values always behaves as a copy.\n",
      "\n",
      "For example, when doing 'df[col].method(value, inplace=True)', try using 'df.method({col: value}, inplace=True)' or df[col] = df[col].method(value) instead, to perform the operation inplace on the original object.\n",
      "\n",
      "\n",
      "  df['product_category_3'].fillna(0, inplace=True)\n"
     ]
    }
   ],
   "execution_count": 64
  },
  {
   "cell_type": "code",
   "id": "2619e536",
   "metadata": {
    "execution": {
     "iopub.execute_input": "2023-09-04T12:42:55.867947Z",
     "iopub.status.busy": "2023-09-04T12:42:55.867516Z",
     "iopub.status.idle": "2023-09-04T12:42:55.916722Z",
     "shell.execute_reply": "2023-09-04T12:42:55.915552Z"
    },
    "papermill": {
     "duration": 0.075715,
     "end_time": "2023-09-04T12:42:55.919233",
     "exception": false,
     "start_time": "2023-09-04T12:42:55.843518",
     "status": "completed"
    },
    "tags": [],
    "ExecuteTime": {
     "end_time": "2025-07-19T04:23:25.154022Z",
     "start_time": "2025-07-19T04:23:25.137774Z"
    }
   },
   "source": [
    "df['product_category_2'] = df['product_category_2'].astype(int)\n",
    "df['product_category_3'] = df['product_category_3'].astype(int)"
   ],
   "outputs": [],
   "execution_count": 18
  },
  {
   "cell_type": "code",
   "id": "cd855e49",
   "metadata": {
    "execution": {
     "iopub.execute_input": "2023-09-04T12:42:55.967808Z",
     "iopub.status.busy": "2023-09-04T12:42:55.967054Z",
     "iopub.status.idle": "2023-09-04T12:42:56.019255Z",
     "shell.execute_reply": "2023-09-04T12:42:56.018096Z"
    },
    "papermill": {
     "duration": 0.080012,
     "end_time": "2023-09-04T12:42:56.021854",
     "exception": false,
     "start_time": "2023-09-04T12:42:55.941842",
     "status": "completed"
    },
    "tags": [],
    "ExecuteTime": {
     "end_time": "2025-07-19T04:24:23.990358Z",
     "start_time": "2025-07-19T04:24:23.966128Z"
    }
   },
   "source": [
    "#Checking for unique values for city_years column\n",
    "df['city_category'].unique()"
   ],
   "outputs": [
    {
     "data": {
      "text/plain": [
       "array(['A', 'C', 'B'], dtype=object)"
      ]
     },
     "execution_count": 21,
     "metadata": {},
     "output_type": "execute_result"
    }
   ],
   "execution_count": 21
  },
  {
   "cell_type": "code",
   "id": "d5486374",
   "metadata": {
    "execution": {
     "iopub.execute_input": "2023-09-04T12:42:56.069913Z",
     "iopub.status.busy": "2023-09-04T12:42:56.069532Z",
     "iopub.status.idle": "2023-09-04T12:42:57.135130Z",
     "shell.execute_reply": "2023-09-04T12:42:57.133936Z"
    },
    "papermill": {
     "duration": 1.093211,
     "end_time": "2023-09-04T12:42:57.137907",
     "exception": false,
     "start_time": "2023-09-04T12:42:56.044696",
     "status": "completed"
    },
    "tags": [],
    "ExecuteTime": {
     "end_time": "2025-07-19T04:38:50.813708Z",
     "start_time": "2025-07-19T04:38:50.593006Z"
    }
   },
   "source": [
    "#remove + from rows in city_years column\n",
    "df['stay_in_current_city_years'] = df['stay_in_current_city_years'].astype(str)\n",
    "df['stay_in_current_city_years'] = (\n",
    "    df['stay_in_current_city_years']\n",
    "    .str.replace('+', '', regex=False)\n",
    "    .replace('', np.nan)\n",
    "    .astype(float)\n",
    "    .astype('Int64')\n",
    ")"
   ],
   "outputs": [],
   "execution_count": 70
  },
  {
   "cell_type": "code",
   "id": "7bd42096",
   "metadata": {
    "execution": {
     "iopub.execute_input": "2023-09-04T12:42:57.462236Z",
     "iopub.status.busy": "2023-09-04T12:42:57.461808Z",
     "iopub.status.idle": "2023-09-04T12:42:57.473914Z",
     "shell.execute_reply": "2023-09-04T12:42:57.472578Z"
    },
    "papermill": {
     "duration": 0.039205,
     "end_time": "2023-09-04T12:42:57.476341",
     "exception": false,
     "start_time": "2023-09-04T12:42:57.437136",
     "status": "completed"
    },
    "tags": [],
    "ExecuteTime": {
     "end_time": "2025-07-19T04:30:35.164278Z",
     "start_time": "2025-07-19T04:30:35.152888Z"
    }
   },
   "source": [
    "#Checking for unique values for category_1 column\n",
    "df['product_category_1'].unique()"
   ],
   "outputs": [
    {
     "data": {
      "text/plain": [
       "array([ 3,  1, 12,  8,  5,  4,  2,  6, 14, 11, 13, 15,  7, 16, 18, 10, 17,\n",
       "        9, 20, 19], dtype=int64)"
      ]
     },
     "execution_count": 32,
     "metadata": {},
     "output_type": "execute_result"
    }
   ],
   "execution_count": 32
  },
  {
   "cell_type": "code",
   "id": "cb86a15f",
   "metadata": {
    "execution": {
     "iopub.execute_input": "2023-09-04T12:42:57.525895Z",
     "iopub.status.busy": "2023-09-04T12:42:57.525496Z",
     "iopub.status.idle": "2023-09-04T12:42:57.544548Z",
     "shell.execute_reply": "2023-09-04T12:42:57.543215Z"
    },
    "papermill": {
     "duration": 0.047378,
     "end_time": "2023-09-04T12:42:57.547821",
     "exception": false,
     "start_time": "2023-09-04T12:42:57.500443",
     "status": "completed"
    },
    "tags": [],
    "ExecuteTime": {
     "end_time": "2025-07-19T04:30:45.044969Z",
     "start_time": "2025-07-19T04:30:45.033738Z"
    }
   },
   "source": [
    "#Checking for unique values for category_2 column\n",
    "df['product_category_2'].unique()"
   ],
   "outputs": [
    {
     "data": {
      "text/plain": [
       "array([ 0,  6, 14,  2,  8, 15, 16, 11,  5,  3,  4, 12,  9, 10, 17, 13,  7,\n",
       "       18])"
      ]
     },
     "execution_count": 33,
     "metadata": {},
     "output_type": "execute_result"
    }
   ],
   "execution_count": 33
  },
  {
   "cell_type": "code",
   "id": "a54a4bfc",
   "metadata": {
    "execution": {
     "iopub.execute_input": "2023-09-04T12:42:57.598677Z",
     "iopub.status.busy": "2023-09-04T12:42:57.597411Z",
     "iopub.status.idle": "2023-09-04T12:42:57.617997Z",
     "shell.execute_reply": "2023-09-04T12:42:57.616710Z"
    },
    "papermill": {
     "duration": 0.048599,
     "end_time": "2023-09-04T12:42:57.620621",
     "exception": false,
     "start_time": "2023-09-04T12:42:57.572022",
     "status": "completed"
    },
    "tags": [],
    "ExecuteTime": {
     "end_time": "2025-07-19T04:31:32.972097Z",
     "start_time": "2025-07-19T04:31:32.957717Z"
    }
   },
   "source": [
    "#fill null you found\n",
    "df['product_category_2'] = df['product_category_2'].fillna(0)\n",
    "df['product_category_2'].unique()"
   ],
   "outputs": [
    {
     "data": {
      "text/plain": [
       "array([ 0,  6, 14,  2,  8, 15, 16, 11,  5,  3,  4, 12,  9, 10, 17, 13,  7,\n",
       "       18])"
      ]
     },
     "execution_count": 35,
     "metadata": {},
     "output_type": "execute_result"
    }
   ],
   "execution_count": 35
  },
  {
   "cell_type": "code",
   "id": "e11129d7",
   "metadata": {
    "execution": {
     "iopub.execute_input": "2023-09-04T12:42:57.670754Z",
     "iopub.status.busy": "2023-09-04T12:42:57.670352Z",
     "iopub.status.idle": "2023-09-04T12:42:57.683748Z",
     "shell.execute_reply": "2023-09-04T12:42:57.682574Z"
    },
    "papermill": {
     "duration": 0.041758,
     "end_time": "2023-09-04T12:42:57.686257",
     "exception": false,
     "start_time": "2023-09-04T12:42:57.644499",
     "status": "completed"
    },
    "tags": [],
    "ExecuteTime": {
     "end_time": "2025-07-19T04:31:45.249814Z",
     "start_time": "2025-07-19T04:31:45.236928Z"
    }
   },
   "source": [
    "#Checking for unique values for category_3 column\n",
    "df['product_category_3'].unique()"
   ],
   "outputs": [
    {
     "data": {
      "text/plain": [
       "array([ 0, 14, 17,  5,  4, 16, 15,  8,  9, 13,  6, 12,  3, 18, 11, 10])"
      ]
     },
     "execution_count": 36,
     "metadata": {},
     "output_type": "execute_result"
    }
   ],
   "execution_count": 36
  },
  {
   "cell_type": "code",
   "id": "ebc6ebc4",
   "metadata": {
    "execution": {
     "iopub.execute_input": "2023-09-04T12:42:57.738107Z",
     "iopub.status.busy": "2023-09-04T12:42:57.737674Z",
     "iopub.status.idle": "2023-09-04T12:42:57.756017Z",
     "shell.execute_reply": "2023-09-04T12:42:57.754783Z"
    },
    "papermill": {
     "duration": 0.047064,
     "end_time": "2023-09-04T12:42:57.758579",
     "exception": false,
     "start_time": "2023-09-04T12:42:57.711515",
     "status": "completed"
    },
    "tags": [],
    "ExecuteTime": {
     "end_time": "2025-07-19T04:31:57.273222Z",
     "start_time": "2025-07-19T04:31:57.266086Z"
    }
   },
   "source": [
    "#fill null you found\n",
    "df['product_category_3'] =df['product_category_3'].fillna(0)"
   ],
   "outputs": [],
   "execution_count": 37
  },
  {
   "cell_type": "code",
   "id": "61b7c1b7",
   "metadata": {
    "execution": {
     "iopub.execute_input": "2023-09-04T12:42:57.808938Z",
     "iopub.status.busy": "2023-09-04T12:42:57.808508Z",
     "iopub.status.idle": "2023-09-04T12:42:57.822877Z",
     "shell.execute_reply": "2023-09-04T12:42:57.821916Z"
    },
    "papermill": {
     "duration": 0.043028,
     "end_time": "2023-09-04T12:42:57.825912",
     "exception": false,
     "start_time": "2023-09-04T12:42:57.782884",
     "status": "completed"
    },
    "tags": [],
    "ExecuteTime": {
     "end_time": "2025-07-19T04:32:13.585856Z",
     "start_time": "2025-07-19T04:32:13.574893Z"
    }
   },
   "source": "df['product_category_3'].unique()",
   "outputs": [
    {
     "data": {
      "text/plain": [
       "array([ 0, 14, 17,  5,  4, 16, 15,  8,  9, 13,  6, 12,  3, 18, 11, 10])"
      ]
     },
     "execution_count": 38,
     "metadata": {},
     "output_type": "execute_result"
    }
   ],
   "execution_count": 38
  },
  {
   "cell_type": "code",
   "id": "0047acb7",
   "metadata": {
    "execution": {
     "iopub.execute_input": "2023-09-04T12:42:57.877782Z",
     "iopub.status.busy": "2023-09-04T12:42:57.877352Z",
     "iopub.status.idle": "2023-09-04T12:42:58.171805Z",
     "shell.execute_reply": "2023-09-04T12:42:58.170535Z"
    },
    "papermill": {
     "duration": 0.322937,
     "end_time": "2023-09-04T12:42:58.174246",
     "exception": false,
     "start_time": "2023-09-04T12:42:57.851309",
     "status": "completed"
    },
    "tags": [],
    "ExecuteTime": {
     "end_time": "2025-07-19T04:32:22.168498Z",
     "start_time": "2025-07-19T04:32:22.091899Z"
    }
   },
   "source": [
    "#check for null values\n",
    "df.isnull().sum()"
   ],
   "outputs": [
    {
     "data": {
      "text/plain": [
       "product_id                    0\n",
       "gender                        0\n",
       "age                           0\n",
       "occupation                    0\n",
       "city_category                 0\n",
       "stay_in_current_city_years    0\n",
       "marital_status                0\n",
       "product_category_1            0\n",
       "product_category_2            0\n",
       "product_category_3            0\n",
       "purchase                      0\n",
       "age_group                     0\n",
       "dtype: int64"
      ]
     },
     "execution_count": 39,
     "metadata": {},
     "output_type": "execute_result"
    }
   ],
   "execution_count": 39
  },
  {
   "cell_type": "code",
   "id": "9b097b9f",
   "metadata": {
    "papermill": {
     "duration": 0.031961,
     "end_time": "2023-09-04T12:43:24.977355",
     "exception": false,
     "start_time": "2023-09-04T12:43:24.945394",
     "status": "completed"
    },
    "tags": [],
    "ExecuteTime": {
     "end_time": "2025-07-19T04:39:20.157801Z",
     "start_time": "2025-07-19T04:39:19.959174Z"
    }
   },
   "source": [
    "#check for duplicates values\n",
    "df.duplicated().sum()"
   ],
   "outputs": [
    {
     "data": {
      "text/plain": [
       "516"
      ]
     },
     "execution_count": 73,
     "metadata": {},
     "output_type": "execute_result"
    }
   ],
   "execution_count": 73
  }
 ],
 "metadata": {
  "kernelspec": {
   "display_name": "Python 3 (ipykernel)",
   "language": "python",
   "name": "python3"
  },
  "language_info": {
   "codemirror_mode": {
    "name": "ipython",
    "version": 3
   },
   "file_extension": ".py",
   "mimetype": "text/x-python",
   "name": "python",
   "nbconvert_exporter": "python",
   "pygments_lexer": "ipython3",
   "version": "3.9.13"
  },
  "papermill": {
   "default_parameters": {},
   "duration": 47.110011,
   "end_time": "2023-09-04T12:43:25.832217",
   "environment_variables": {},
   "exception": null,
   "input_path": "__notebook__.ipynb",
   "output_path": "__notebook__.ipynb",
   "parameters": {},
   "start_time": "2023-09-04T12:42:38.722206",
   "version": "2.4.0"
  }
 },
 "nbformat": 4,
 "nbformat_minor": 5
}

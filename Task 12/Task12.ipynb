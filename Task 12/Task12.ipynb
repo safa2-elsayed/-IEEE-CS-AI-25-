{
 "cells": [
  {
   "cell_type": "code",
   "execution_count": 5,
   "id": "834740f0e2a8a197",
   "metadata": {
    "ExecuteTime": {
     "end_time": "2025-04-25T19:28:46.854390Z",
     "start_time": "2025-04-25T19:28:46.832110Z"
    }
   },
   "outputs": [],
   "source": [
    "import numpy as np\n",
    "from sqlalchemy.sql.operators import truediv"
   ]
  },
  {
   "cell_type": "markdown",
   "id": "48538fcd-cef9-42a3-8fbc-17316c860181",
   "metadata": {},
   "source": [
    "\n"
   ]
  },
  {
   "cell_type": "code",
   "execution_count": null,
   "id": "6923c8ef55142501",
   "metadata": {
    "ExecuteTime": {
     "end_time": "2025-04-25T19:34:37.986125Z",
     "start_time": "2025-04-25T19:34:37.974792Z"
    }
   },
   "outputs": [
    {
     "name": "stdout",
     "output_type": "stream",
     "text": [
      "The 3d array with nines diagonal :  [[9 0 0]\n",
      " [0 9 0]\n",
      " [0 0 9]]\n"
     ]
    }
   ],
   "source": [
    "np1=np.diag([9,9,9])\n",
    "print(\"The 3d array with nines diagonal :\\n \",np1)"
   ]
  },
  {
   "cell_type": "code",
   "execution_count": 22,
   "id": "d43b6fd7c2b585e4",
   "metadata": {
    "ExecuteTime": {
     "end_time": "2025-04-25T19:50:21.464813Z",
     "start_time": "2025-04-25T19:50:21.456697Z"
    }
   },
   "outputs": [
    {
     "name": "stdout",
     "output_type": "stream",
     "text": [
      "\n",
      " Filtered values within 1/2 std of mean:\n",
      "  [14 16 18 20]\n"
     ]
    }
   ],
   "source": [
    "np2=np.arange(2,33,2)\n",
    "new=np2.reshape(4,4)\n",
    "mean=np.mean(new)\n",
    "std=np.std(new)\n",
    "\n",
    "condition = (new > (mean - 0.5 * std)) & (new < (mean + 0.5 * std))\n",
    "filtered = new[condition]\n",
    "print(\"\\n Filtered values within 1/2 std of mean:\\n \", filtered)"
   ]
  },
  {
   "cell_type": "code",
   "execution_count": 30,
   "id": "475b80afa6e8d33e",
   "metadata": {
    "ExecuteTime": {
     "end_time": "2025-04-25T19:54:25.015707Z",
     "start_time": "2025-04-25T19:54:25.010448Z"
    }
   },
   "outputs": [
    {
     "name": "stdout",
     "output_type": "stream",
     "text": [
      "\n",
      " Here is the zeros Array :\n",
      "  [[0 0 0 0 0 0 0 0 0]\n",
      " [0 0 0 0 0 0 0 0 0]\n",
      " [0 0 0 0 0 0 0 0 0]\n",
      " [0 0 0 0 0 0 0 0 0]\n",
      " [0 0 0 0 0 0 0 0 0]\n",
      " [0 0 0 0 0 0 0 0 0]\n",
      " [0 0 0 0 0 0 0 0 0]\n",
      " [0 0 0 0 0 0 0 0 0]\n",
      " [0 0 0 0 0 0 0 0 0]]\n"
     ]
    }
   ],
   "source": [
    "np3=np.zeros((9,9),dtype=int)\n",
    "print(\"\\n Here is the zeros Array :\\n \",np3)\n"
   ]
  },
  {
   "cell_type": "code",
   "execution_count": 38,
   "id": "a619d3ab22d2e2ea",
   "metadata": {
    "ExecuteTime": {
     "end_time": "2025-04-25T20:03:01.834068Z",
     "start_time": "2025-04-25T20:02:55.941926Z"
    }
   },
   "outputs": [
    {
     "name": "stdout",
     "output_type": "stream",
     "text": [
      "\n",
      " Here is the 4*4 broadcasted Array :\n",
      "  [[1 2 3 4]\n",
      " [1 2 3 4]\n",
      " [1 2 3 4]\n",
      " [1 2 3 4]]\n"
     ]
    }
   ],
   "source": [
    "n=int(input(\"Enter the number N : \"))\n",
    "np4=np.arange(1,n+1,1)\n",
    "new=np4.reshape(1,n)*np.ones((n,1),dtype=int)\n",
    "print(f\"\\n Here is the {n}*{n} broadcasted Array :\\n \",new)"
   ]
  },
  {
   "cell_type": "code",
   "execution_count": 41,
   "id": "8db0fc98dab9951c",
   "metadata": {
    "ExecuteTime": {
     "end_time": "2025-04-25T20:15:41.599903Z",
     "start_time": "2025-04-25T20:15:39.030957Z"
    }
   },
   "outputs": [
    {
     "ename": "KeyboardInterrupt",
     "evalue": "Interrupted by user",
     "output_type": "error",
     "traceback": [
      "\u001b[1;31m---------------------------------------------------------------------------\u001b[0m",
      "\u001b[1;31mKeyboardInterrupt\u001b[0m                         Traceback (most recent call last)",
      "Cell \u001b[1;32mIn[41], line 2\u001b[0m\n\u001b[0;32m      1\u001b[0m \u001b[38;5;66;03m#Problem 1 :\u001b[39;00m\n\u001b[1;32m----> 2\u001b[0m n\u001b[38;5;241m=\u001b[39m\u001b[38;5;28mint\u001b[39m (\u001b[38;5;28minput\u001b[39m())\n\u001b[0;32m      3\u001b[0m \u001b[38;5;28mlist\u001b[39m\u001b[38;5;241m=\u001b[39m\u001b[38;5;28mlist\u001b[39m(\u001b[38;5;28mmap\u001b[39m(\u001b[38;5;28mint\u001b[39m,\u001b[38;5;28minput\u001b[39m()\u001b[38;5;241m.\u001b[39msplit()))\n\u001b[0;32m      5\u001b[0m seraj_score\u001b[38;5;241m=\u001b[39m\u001b[38;5;241m0\u001b[39m\n",
      "File \u001b[1;32m~\\anaconda3\\Lib\\site-packages\\ipykernel\\kernelbase.py:1262\u001b[0m, in \u001b[0;36mKernel.raw_input\u001b[1;34m(self, prompt)\u001b[0m\n\u001b[0;32m   1260\u001b[0m     msg \u001b[38;5;241m=\u001b[39m \u001b[38;5;124m\"\u001b[39m\u001b[38;5;124mraw_input was called, but this frontend does not support input requests.\u001b[39m\u001b[38;5;124m\"\u001b[39m\n\u001b[0;32m   1261\u001b[0m     \u001b[38;5;28;01mraise\u001b[39;00m StdinNotImplementedError(msg)\n\u001b[1;32m-> 1262\u001b[0m \u001b[38;5;28;01mreturn\u001b[39;00m \u001b[38;5;28mself\u001b[39m\u001b[38;5;241m.\u001b[39m_input_request(\n\u001b[0;32m   1263\u001b[0m     \u001b[38;5;28mstr\u001b[39m(prompt),\n\u001b[0;32m   1264\u001b[0m     \u001b[38;5;28mself\u001b[39m\u001b[38;5;241m.\u001b[39m_parent_ident[\u001b[38;5;124m\"\u001b[39m\u001b[38;5;124mshell\u001b[39m\u001b[38;5;124m\"\u001b[39m],\n\u001b[0;32m   1265\u001b[0m     \u001b[38;5;28mself\u001b[39m\u001b[38;5;241m.\u001b[39mget_parent(\u001b[38;5;124m\"\u001b[39m\u001b[38;5;124mshell\u001b[39m\u001b[38;5;124m\"\u001b[39m),\n\u001b[0;32m   1266\u001b[0m     password\u001b[38;5;241m=\u001b[39m\u001b[38;5;28;01mFalse\u001b[39;00m,\n\u001b[0;32m   1267\u001b[0m )\n",
      "File \u001b[1;32m~\\anaconda3\\Lib\\site-packages\\ipykernel\\kernelbase.py:1305\u001b[0m, in \u001b[0;36mKernel._input_request\u001b[1;34m(self, prompt, ident, parent, password)\u001b[0m\n\u001b[0;32m   1302\u001b[0m \u001b[38;5;28;01mexcept\u001b[39;00m \u001b[38;5;167;01mKeyboardInterrupt\u001b[39;00m:\n\u001b[0;32m   1303\u001b[0m     \u001b[38;5;66;03m# re-raise KeyboardInterrupt, to truncate traceback\u001b[39;00m\n\u001b[0;32m   1304\u001b[0m     msg \u001b[38;5;241m=\u001b[39m \u001b[38;5;124m\"\u001b[39m\u001b[38;5;124mInterrupted by user\u001b[39m\u001b[38;5;124m\"\u001b[39m\n\u001b[1;32m-> 1305\u001b[0m     \u001b[38;5;28;01mraise\u001b[39;00m \u001b[38;5;167;01mKeyboardInterrupt\u001b[39;00m(msg) \u001b[38;5;28;01mfrom\u001b[39;00m \u001b[38;5;28;01mNone\u001b[39;00m\n\u001b[0;32m   1306\u001b[0m \u001b[38;5;28;01mexcept\u001b[39;00m \u001b[38;5;167;01mException\u001b[39;00m:\n\u001b[0;32m   1307\u001b[0m     \u001b[38;5;28mself\u001b[39m\u001b[38;5;241m.\u001b[39mlog\u001b[38;5;241m.\u001b[39mwarning(\u001b[38;5;124m\"\u001b[39m\u001b[38;5;124mInvalid Message:\u001b[39m\u001b[38;5;124m\"\u001b[39m, exc_info\u001b[38;5;241m=\u001b[39m\u001b[38;5;28;01mTrue\u001b[39;00m)\n",
      "\u001b[1;31mKeyboardInterrupt\u001b[0m: Interrupted by user"
     ]
    }
   ],
   "source": [
    "#Problem 1 :\n",
    "n=int (input())\n",
    "list=list(map(int,input().split()))\n",
    "\n",
    "seraj_score=0\n",
    "dema_score=0\n",
    "\n",
    "left=0\n",
    "right=n-1\n",
    "\n",
    "for turn in range(n) :\n",
    "    if list[left] > list[right] :\n",
    "        chosen=list[left]\n",
    "        left+=1\n",
    "    else :\n",
    "        chosen=list[right]\n",
    "        right-=1\n",
    "    if turn %2==0 :\n",
    "        seraj_score+= chosen\n",
    "    else :\n",
    "        dema_score+= chosen\n",
    "\n",
    "print(seraj_score,dema_score)\n"
   ]
  },
  {
   "cell_type": "code",
   "execution_count": 42,
   "id": "87549584eddc1992",
   "metadata": {
    "ExecuteTime": {
     "end_time": "2025-04-25T20:20:48.256525Z",
     "start_time": "2025-04-25T20:20:31.555067Z"
    }
   },
   "outputs": [
    {
     "ename": "ValueError",
     "evalue": "invalid literal for int() with base 10: 'C'",
     "output_type": "error",
     "traceback": [
      "\u001b[1;31m---------------------------------------------------------------------------\u001b[0m",
      "\u001b[1;31mValueError\u001b[0m                                Traceback (most recent call last)",
      "Cell \u001b[1;32mIn[42], line 2\u001b[0m\n\u001b[0;32m      1\u001b[0m \u001b[38;5;66;03m#problem 2 :\u001b[39;00m\n\u001b[1;32m----> 2\u001b[0m n, m\u001b[38;5;241m=\u001b[39m\u001b[38;5;28mmap\u001b[39m(\u001b[38;5;28mint\u001b[39m,\u001b[38;5;28minput\u001b[39m()\u001b[38;5;241m.\u001b[39msplit())\n\u001b[0;32m      3\u001b[0m pixels\u001b[38;5;241m=\u001b[39m{\u001b[38;5;124m'\u001b[39m\u001b[38;5;124mC\u001b[39m\u001b[38;5;124m'\u001b[39m,\u001b[38;5;124m'\u001b[39m\u001b[38;5;124mM\u001b[39m\u001b[38;5;124m'\u001b[39m,\u001b[38;5;124m'\u001b[39m\u001b[38;5;124mY\u001b[39m\u001b[38;5;124m'\u001b[39m}\n\u001b[0;32m      4\u001b[0m isColored\u001b[38;5;241m=\u001b[39m\u001b[38;5;28;01mFalse\u001b[39;00m\n",
      "\u001b[1;31mValueError\u001b[0m: invalid literal for int() with base 10: 'C'"
     ]
    }
   ],
   "source": [
    "#problem 2 :\n",
    "n, m=map(int,input().split())\n",
    "pixels={'C','M','Y'}\n",
    "isColored=False\n",
    "\n",
    "for _ in range(n):\n",
    "    row=input().split()\n",
    "    for pixel in row :\n",
    "         if pixel in pixels :\n",
    "             isColored=True\n",
    "             break\n",
    "    if isColored :\n",
    "        break\n",
    "\n",
    "print(\"#Color\"if isColored else \"#Black&White\")"
   ]
  }
 ],
 "metadata": {
  "kernelspec": {
   "display_name": "Python 3 (ipykernel)",
   "language": "python",
   "name": "python3"
  },
  "language_info": {
   "codemirror_mode": {
    "name": "ipython",
    "version": 3
   },
   "file_extension": ".py",
   "mimetype": "text/x-python",
   "name": "python",
   "nbconvert_exporter": "python",
   "pygments_lexer": "ipython3",
   "version": "3.12.7"
  }
 },
 "nbformat": 4,
 "nbformat_minor": 5
}
